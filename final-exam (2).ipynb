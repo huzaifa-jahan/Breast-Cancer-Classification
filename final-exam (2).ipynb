{
 "cells": [
  {
   "cell_type": "markdown",
   "id": "00a2120e",
   "metadata": {
    "papermill": {
     "duration": 0.021784,
     "end_time": "2023-02-18T20:01:22.692400",
     "exception": false,
     "start_time": "2023-02-18T20:01:22.670616",
     "status": "completed"
    },
    "tags": []
   },
   "source": [
    "<h1>Breast Cancer Classification</h1><br>\n",
    "\n",
    "##### Goal is to determine whether a tumor is benign or melignant, meaning it is a Binary Classification problem."
   ]
  },
  {
   "cell_type": "markdown",
   "id": "2bf48e80",
   "metadata": {
    "papermill": {
     "duration": 0.019749,
     "end_time": "2023-02-18T20:01:22.734222",
     "exception": false,
     "start_time": "2023-02-18T20:01:22.714473",
     "status": "completed"
    },
    "tags": []
   },
   "source": [
    "### Importing libraries"
   ]
  },
  {
   "cell_type": "code",
   "execution_count": 1,
   "id": "230bb1da",
   "metadata": {
    "execution": {
     "iopub.execute_input": "2023-02-18T20:01:22.775438Z",
     "iopub.status.busy": "2023-02-18T20:01:22.774954Z",
     "iopub.status.idle": "2023-02-18T20:01:25.438333Z",
     "shell.execute_reply": "2023-02-18T20:01:25.437001Z"
    },
    "papermill": {
     "duration": 2.687331,
     "end_time": "2023-02-18T20:01:25.441037",
     "exception": false,
     "start_time": "2023-02-18T20:01:22.753706",
     "status": "completed"
    },
    "tags": []
   },
   "outputs": [],
   "source": [
    "import pandas as pd\n",
    "import numpy as np\n",
    "from pandas_profiling import ProfileReport\n",
    "import matplotlib.pyplot as plt\n",
    "import seaborn as sns\n",
    "import warnings\n",
    "warnings.filterwarnings('ignore')"
   ]
  },
  {
   "cell_type": "markdown",
   "id": "0fe36564",
   "metadata": {
    "papermill": {
     "duration": 0.019356,
     "end_time": "2023-02-18T20:01:25.480535",
     "exception": false,
     "start_time": "2023-02-18T20:01:25.461179",
     "status": "completed"
    },
    "tags": []
   },
   "source": [
    "### Loading & DataFrame Creation"
   ]
  },
  {
   "cell_type": "code",
   "execution_count": 2,
   "id": "d5154ee6",
   "metadata": {
    "execution": {
     "iopub.execute_input": "2023-02-18T20:01:25.521831Z",
     "iopub.status.busy": "2023-02-18T20:01:25.521390Z",
     "iopub.status.idle": "2023-02-18T20:01:25.736657Z",
     "shell.execute_reply": "2023-02-18T20:01:25.735361Z"
    },
    "papermill": {
     "duration": 0.238576,
     "end_time": "2023-02-18T20:01:25.739035",
     "exception": false,
     "start_time": "2023-02-18T20:01:25.500459",
     "status": "completed"
    },
    "tags": []
   },
   "outputs": [
    {
     "data": {
      "text/html": [
       "<div>\n",
       "<style scoped>\n",
       "    .dataframe tbody tr th:only-of-type {\n",
       "        vertical-align: middle;\n",
       "    }\n",
       "\n",
       "    .dataframe tbody tr th {\n",
       "        vertical-align: top;\n",
       "    }\n",
       "\n",
       "    .dataframe thead th {\n",
       "        text-align: right;\n",
       "    }\n",
       "</style>\n",
       "<table border=\"1\" class=\"dataframe\">\n",
       "  <thead>\n",
       "    <tr style=\"text-align: right;\">\n",
       "      <th></th>\n",
       "      <th>mean radius</th>\n",
       "      <th>mean texture</th>\n",
       "      <th>mean perimeter</th>\n",
       "      <th>mean area</th>\n",
       "      <th>mean smoothness</th>\n",
       "      <th>mean compactness</th>\n",
       "      <th>mean concavity</th>\n",
       "      <th>mean concave points</th>\n",
       "      <th>mean symmetry</th>\n",
       "      <th>mean fractal dimension</th>\n",
       "      <th>...</th>\n",
       "      <th>worst texture</th>\n",
       "      <th>worst perimeter</th>\n",
       "      <th>worst area</th>\n",
       "      <th>worst smoothness</th>\n",
       "      <th>worst compactness</th>\n",
       "      <th>worst concavity</th>\n",
       "      <th>worst concave points</th>\n",
       "      <th>worst symmetry</th>\n",
       "      <th>worst fractal dimension</th>\n",
       "      <th>target</th>\n",
       "    </tr>\n",
       "  </thead>\n",
       "  <tbody>\n",
       "    <tr>\n",
       "      <th>0</th>\n",
       "      <td>17.99</td>\n",
       "      <td>10.38</td>\n",
       "      <td>122.80</td>\n",
       "      <td>1001.0</td>\n",
       "      <td>0.11840</td>\n",
       "      <td>0.27760</td>\n",
       "      <td>0.30010</td>\n",
       "      <td>0.14710</td>\n",
       "      <td>0.2419</td>\n",
       "      <td>0.07871</td>\n",
       "      <td>...</td>\n",
       "      <td>17.33</td>\n",
       "      <td>184.60</td>\n",
       "      <td>2019.0</td>\n",
       "      <td>0.16220</td>\n",
       "      <td>0.66560</td>\n",
       "      <td>0.7119</td>\n",
       "      <td>0.2654</td>\n",
       "      <td>0.4601</td>\n",
       "      <td>0.11890</td>\n",
       "      <td>0</td>\n",
       "    </tr>\n",
       "    <tr>\n",
       "      <th>1</th>\n",
       "      <td>20.57</td>\n",
       "      <td>17.77</td>\n",
       "      <td>132.90</td>\n",
       "      <td>1326.0</td>\n",
       "      <td>0.08474</td>\n",
       "      <td>0.07864</td>\n",
       "      <td>0.08690</td>\n",
       "      <td>0.07017</td>\n",
       "      <td>0.1812</td>\n",
       "      <td>0.05667</td>\n",
       "      <td>...</td>\n",
       "      <td>23.41</td>\n",
       "      <td>158.80</td>\n",
       "      <td>1956.0</td>\n",
       "      <td>0.12380</td>\n",
       "      <td>0.18660</td>\n",
       "      <td>0.2416</td>\n",
       "      <td>0.1860</td>\n",
       "      <td>0.2750</td>\n",
       "      <td>0.08902</td>\n",
       "      <td>0</td>\n",
       "    </tr>\n",
       "    <tr>\n",
       "      <th>2</th>\n",
       "      <td>19.69</td>\n",
       "      <td>21.25</td>\n",
       "      <td>130.00</td>\n",
       "      <td>1203.0</td>\n",
       "      <td>0.10960</td>\n",
       "      <td>0.15990</td>\n",
       "      <td>0.19740</td>\n",
       "      <td>0.12790</td>\n",
       "      <td>0.2069</td>\n",
       "      <td>0.05999</td>\n",
       "      <td>...</td>\n",
       "      <td>25.53</td>\n",
       "      <td>152.50</td>\n",
       "      <td>1709.0</td>\n",
       "      <td>0.14440</td>\n",
       "      <td>0.42450</td>\n",
       "      <td>0.4504</td>\n",
       "      <td>0.2430</td>\n",
       "      <td>0.3613</td>\n",
       "      <td>0.08758</td>\n",
       "      <td>0</td>\n",
       "    </tr>\n",
       "    <tr>\n",
       "      <th>3</th>\n",
       "      <td>11.42</td>\n",
       "      <td>20.38</td>\n",
       "      <td>77.58</td>\n",
       "      <td>386.1</td>\n",
       "      <td>0.14250</td>\n",
       "      <td>0.28390</td>\n",
       "      <td>0.24140</td>\n",
       "      <td>0.10520</td>\n",
       "      <td>0.2597</td>\n",
       "      <td>0.09744</td>\n",
       "      <td>...</td>\n",
       "      <td>26.50</td>\n",
       "      <td>98.87</td>\n",
       "      <td>567.7</td>\n",
       "      <td>0.20980</td>\n",
       "      <td>0.86630</td>\n",
       "      <td>0.6869</td>\n",
       "      <td>0.2575</td>\n",
       "      <td>0.6638</td>\n",
       "      <td>0.17300</td>\n",
       "      <td>0</td>\n",
       "    </tr>\n",
       "    <tr>\n",
       "      <th>4</th>\n",
       "      <td>20.29</td>\n",
       "      <td>14.34</td>\n",
       "      <td>135.10</td>\n",
       "      <td>1297.0</td>\n",
       "      <td>0.10030</td>\n",
       "      <td>0.13280</td>\n",
       "      <td>0.19800</td>\n",
       "      <td>0.10430</td>\n",
       "      <td>0.1809</td>\n",
       "      <td>0.05883</td>\n",
       "      <td>...</td>\n",
       "      <td>16.67</td>\n",
       "      <td>152.20</td>\n",
       "      <td>1575.0</td>\n",
       "      <td>0.13740</td>\n",
       "      <td>0.20500</td>\n",
       "      <td>0.4000</td>\n",
       "      <td>0.1625</td>\n",
       "      <td>0.2364</td>\n",
       "      <td>0.07678</td>\n",
       "      <td>0</td>\n",
       "    </tr>\n",
       "    <tr>\n",
       "      <th>...</th>\n",
       "      <td>...</td>\n",
       "      <td>...</td>\n",
       "      <td>...</td>\n",
       "      <td>...</td>\n",
       "      <td>...</td>\n",
       "      <td>...</td>\n",
       "      <td>...</td>\n",
       "      <td>...</td>\n",
       "      <td>...</td>\n",
       "      <td>...</td>\n",
       "      <td>...</td>\n",
       "      <td>...</td>\n",
       "      <td>...</td>\n",
       "      <td>...</td>\n",
       "      <td>...</td>\n",
       "      <td>...</td>\n",
       "      <td>...</td>\n",
       "      <td>...</td>\n",
       "      <td>...</td>\n",
       "      <td>...</td>\n",
       "      <td>...</td>\n",
       "    </tr>\n",
       "    <tr>\n",
       "      <th>564</th>\n",
       "      <td>21.56</td>\n",
       "      <td>22.39</td>\n",
       "      <td>142.00</td>\n",
       "      <td>1479.0</td>\n",
       "      <td>0.11100</td>\n",
       "      <td>0.11590</td>\n",
       "      <td>0.24390</td>\n",
       "      <td>0.13890</td>\n",
       "      <td>0.1726</td>\n",
       "      <td>0.05623</td>\n",
       "      <td>...</td>\n",
       "      <td>26.40</td>\n",
       "      <td>166.10</td>\n",
       "      <td>2027.0</td>\n",
       "      <td>0.14100</td>\n",
       "      <td>0.21130</td>\n",
       "      <td>0.4107</td>\n",
       "      <td>0.2216</td>\n",
       "      <td>0.2060</td>\n",
       "      <td>0.07115</td>\n",
       "      <td>0</td>\n",
       "    </tr>\n",
       "    <tr>\n",
       "      <th>565</th>\n",
       "      <td>20.13</td>\n",
       "      <td>28.25</td>\n",
       "      <td>131.20</td>\n",
       "      <td>1261.0</td>\n",
       "      <td>0.09780</td>\n",
       "      <td>0.10340</td>\n",
       "      <td>0.14400</td>\n",
       "      <td>0.09791</td>\n",
       "      <td>0.1752</td>\n",
       "      <td>0.05533</td>\n",
       "      <td>...</td>\n",
       "      <td>38.25</td>\n",
       "      <td>155.00</td>\n",
       "      <td>1731.0</td>\n",
       "      <td>0.11660</td>\n",
       "      <td>0.19220</td>\n",
       "      <td>0.3215</td>\n",
       "      <td>0.1628</td>\n",
       "      <td>0.2572</td>\n",
       "      <td>0.06637</td>\n",
       "      <td>0</td>\n",
       "    </tr>\n",
       "    <tr>\n",
       "      <th>566</th>\n",
       "      <td>16.60</td>\n",
       "      <td>28.08</td>\n",
       "      <td>108.30</td>\n",
       "      <td>858.1</td>\n",
       "      <td>0.08455</td>\n",
       "      <td>0.10230</td>\n",
       "      <td>0.09251</td>\n",
       "      <td>0.05302</td>\n",
       "      <td>0.1590</td>\n",
       "      <td>0.05648</td>\n",
       "      <td>...</td>\n",
       "      <td>34.12</td>\n",
       "      <td>126.70</td>\n",
       "      <td>1124.0</td>\n",
       "      <td>0.11390</td>\n",
       "      <td>0.30940</td>\n",
       "      <td>0.3403</td>\n",
       "      <td>0.1418</td>\n",
       "      <td>0.2218</td>\n",
       "      <td>0.07820</td>\n",
       "      <td>0</td>\n",
       "    </tr>\n",
       "    <tr>\n",
       "      <th>567</th>\n",
       "      <td>20.60</td>\n",
       "      <td>29.33</td>\n",
       "      <td>140.10</td>\n",
       "      <td>1265.0</td>\n",
       "      <td>0.11780</td>\n",
       "      <td>0.27700</td>\n",
       "      <td>0.35140</td>\n",
       "      <td>0.15200</td>\n",
       "      <td>0.2397</td>\n",
       "      <td>0.07016</td>\n",
       "      <td>...</td>\n",
       "      <td>39.42</td>\n",
       "      <td>184.60</td>\n",
       "      <td>1821.0</td>\n",
       "      <td>0.16500</td>\n",
       "      <td>0.86810</td>\n",
       "      <td>0.9387</td>\n",
       "      <td>0.2650</td>\n",
       "      <td>0.4087</td>\n",
       "      <td>0.12400</td>\n",
       "      <td>0</td>\n",
       "    </tr>\n",
       "    <tr>\n",
       "      <th>568</th>\n",
       "      <td>7.76</td>\n",
       "      <td>24.54</td>\n",
       "      <td>47.92</td>\n",
       "      <td>181.0</td>\n",
       "      <td>0.05263</td>\n",
       "      <td>0.04362</td>\n",
       "      <td>0.00000</td>\n",
       "      <td>0.00000</td>\n",
       "      <td>0.1587</td>\n",
       "      <td>0.05884</td>\n",
       "      <td>...</td>\n",
       "      <td>30.37</td>\n",
       "      <td>59.16</td>\n",
       "      <td>268.6</td>\n",
       "      <td>0.08996</td>\n",
       "      <td>0.06444</td>\n",
       "      <td>0.0000</td>\n",
       "      <td>0.0000</td>\n",
       "      <td>0.2871</td>\n",
       "      <td>0.07039</td>\n",
       "      <td>1</td>\n",
       "    </tr>\n",
       "  </tbody>\n",
       "</table>\n",
       "<p>569 rows × 31 columns</p>\n",
       "</div>"
      ],
      "text/plain": [
       "     mean radius  mean texture  mean perimeter  mean area  mean smoothness  \\\n",
       "0          17.99         10.38          122.80     1001.0          0.11840   \n",
       "1          20.57         17.77          132.90     1326.0          0.08474   \n",
       "2          19.69         21.25          130.00     1203.0          0.10960   \n",
       "3          11.42         20.38           77.58      386.1          0.14250   \n",
       "4          20.29         14.34          135.10     1297.0          0.10030   \n",
       "..           ...           ...             ...        ...              ...   \n",
       "564        21.56         22.39          142.00     1479.0          0.11100   \n",
       "565        20.13         28.25          131.20     1261.0          0.09780   \n",
       "566        16.60         28.08          108.30      858.1          0.08455   \n",
       "567        20.60         29.33          140.10     1265.0          0.11780   \n",
       "568         7.76         24.54           47.92      181.0          0.05263   \n",
       "\n",
       "     mean compactness  mean concavity  mean concave points  mean symmetry  \\\n",
       "0             0.27760         0.30010              0.14710         0.2419   \n",
       "1             0.07864         0.08690              0.07017         0.1812   \n",
       "2             0.15990         0.19740              0.12790         0.2069   \n",
       "3             0.28390         0.24140              0.10520         0.2597   \n",
       "4             0.13280         0.19800              0.10430         0.1809   \n",
       "..                ...             ...                  ...            ...   \n",
       "564           0.11590         0.24390              0.13890         0.1726   \n",
       "565           0.10340         0.14400              0.09791         0.1752   \n",
       "566           0.10230         0.09251              0.05302         0.1590   \n",
       "567           0.27700         0.35140              0.15200         0.2397   \n",
       "568           0.04362         0.00000              0.00000         0.1587   \n",
       "\n",
       "     mean fractal dimension  ...  worst texture  worst perimeter  worst area  \\\n",
       "0                   0.07871  ...          17.33           184.60      2019.0   \n",
       "1                   0.05667  ...          23.41           158.80      1956.0   \n",
       "2                   0.05999  ...          25.53           152.50      1709.0   \n",
       "3                   0.09744  ...          26.50            98.87       567.7   \n",
       "4                   0.05883  ...          16.67           152.20      1575.0   \n",
       "..                      ...  ...            ...              ...         ...   \n",
       "564                 0.05623  ...          26.40           166.10      2027.0   \n",
       "565                 0.05533  ...          38.25           155.00      1731.0   \n",
       "566                 0.05648  ...          34.12           126.70      1124.0   \n",
       "567                 0.07016  ...          39.42           184.60      1821.0   \n",
       "568                 0.05884  ...          30.37            59.16       268.6   \n",
       "\n",
       "     worst smoothness  worst compactness  worst concavity  \\\n",
       "0             0.16220            0.66560           0.7119   \n",
       "1             0.12380            0.18660           0.2416   \n",
       "2             0.14440            0.42450           0.4504   \n",
       "3             0.20980            0.86630           0.6869   \n",
       "4             0.13740            0.20500           0.4000   \n",
       "..                ...                ...              ...   \n",
       "564           0.14100            0.21130           0.4107   \n",
       "565           0.11660            0.19220           0.3215   \n",
       "566           0.11390            0.30940           0.3403   \n",
       "567           0.16500            0.86810           0.9387   \n",
       "568           0.08996            0.06444           0.0000   \n",
       "\n",
       "     worst concave points  worst symmetry  worst fractal dimension  target  \n",
       "0                  0.2654          0.4601                  0.11890       0  \n",
       "1                  0.1860          0.2750                  0.08902       0  \n",
       "2                  0.2430          0.3613                  0.08758       0  \n",
       "3                  0.2575          0.6638                  0.17300       0  \n",
       "4                  0.1625          0.2364                  0.07678       0  \n",
       "..                    ...             ...                      ...     ...  \n",
       "564                0.2216          0.2060                  0.07115       0  \n",
       "565                0.1628          0.2572                  0.06637       0  \n",
       "566                0.1418          0.2218                  0.07820       0  \n",
       "567                0.2650          0.4087                  0.12400       0  \n",
       "568                0.0000          0.2871                  0.07039       1  \n",
       "\n",
       "[569 rows x 31 columns]"
      ]
     },
     "execution_count": 2,
     "metadata": {},
     "output_type": "execute_result"
    }
   ],
   "source": [
    "from sklearn.datasets import load_breast_cancer\n",
    "cancer_dataset = load_breast_cancer()\n",
    "cancer_dataset.keys()\n",
    "df = pd.DataFrame(cancer_dataset['data'], columns=cancer_dataset.feature_names)\n",
    "df['target'] = cancer_dataset.target\n",
    "df"
   ]
  },
  {
   "cell_type": "markdown",
   "id": "f8d148cb",
   "metadata": {
    "papermill": {
     "duration": 0.019784,
     "end_time": "2023-02-18T20:01:25.779078",
     "exception": false,
     "start_time": "2023-02-18T20:01:25.759294",
     "status": "completed"
    },
    "tags": []
   },
   "source": [
    "### Data Report"
   ]
  },
  {
   "cell_type": "code",
   "execution_count": 3,
   "id": "e1cc41ad",
   "metadata": {
    "_kg_hide-output": true,
    "execution": {
     "iopub.execute_input": "2023-02-18T20:01:25.821993Z",
     "iopub.status.busy": "2023-02-18T20:01:25.821506Z",
     "iopub.status.idle": "2023-02-18T20:01:25.828840Z",
     "shell.execute_reply": "2023-02-18T20:01:25.826738Z"
    },
    "papermill": {
     "duration": 0.031586,
     "end_time": "2023-02-18T20:01:25.831329",
     "exception": false,
     "start_time": "2023-02-18T20:01:25.799743",
     "status": "completed"
    },
    "tags": []
   },
   "outputs": [
    {
     "name": "stdout",
     "output_type": "stream",
     "text": [
      ".. _breast_cancer_dataset:\n",
      "\n",
      "Breast cancer wisconsin (diagnostic) dataset\n",
      "--------------------------------------------\n",
      "\n",
      "**Data Set Characteristics:**\n",
      "\n",
      "    :Number of Instances: 569\n",
      "\n",
      "    :Number of Attributes: 30 numeric, predictive attributes and the class\n",
      "\n",
      "    :Attribute Information:\n",
      "        - radius (mean of distances from center to points on the perimeter)\n",
      "        - texture (standard deviation of gray-scale values)\n",
      "        - perimeter\n",
      "        - area\n",
      "        - smoothness (local variation in radius lengths)\n",
      "        - compactness (perimeter^2 / area - 1.0)\n",
      "        - concavity (severity of concave portions of the contour)\n",
      "        - concave points (number of concave portions of the contour)\n",
      "        - symmetry\n",
      "        - fractal dimension (\"coastline approximation\" - 1)\n",
      "\n",
      "        The mean, standard error, and \"worst\" or largest (mean of the three\n",
      "        worst/largest values) of these features were computed for each image,\n",
      "        resulting in 30 features.  For instance, field 0 is Mean Radius, field\n",
      "        10 is Radius SE, field 20 is Worst Radius.\n",
      "\n",
      "        - class:\n",
      "                - WDBC-Malignant\n",
      "                - WDBC-Benign\n",
      "\n",
      "    :Summary Statistics:\n",
      "\n",
      "    ===================================== ====== ======\n",
      "                                           Min    Max\n",
      "    ===================================== ====== ======\n",
      "    radius (mean):                        6.981  28.11\n",
      "    texture (mean):                       9.71   39.28\n",
      "    perimeter (mean):                     43.79  188.5\n",
      "    area (mean):                          143.5  2501.0\n",
      "    smoothness (mean):                    0.053  0.163\n",
      "    compactness (mean):                   0.019  0.345\n",
      "    concavity (mean):                     0.0    0.427\n",
      "    concave points (mean):                0.0    0.201\n",
      "    symmetry (mean):                      0.106  0.304\n",
      "    fractal dimension (mean):             0.05   0.097\n",
      "    radius (standard error):              0.112  2.873\n",
      "    texture (standard error):             0.36   4.885\n",
      "    perimeter (standard error):           0.757  21.98\n",
      "    area (standard error):                6.802  542.2\n",
      "    smoothness (standard error):          0.002  0.031\n",
      "    compactness (standard error):         0.002  0.135\n",
      "    concavity (standard error):           0.0    0.396\n",
      "    concave points (standard error):      0.0    0.053\n",
      "    symmetry (standard error):            0.008  0.079\n",
      "    fractal dimension (standard error):   0.001  0.03\n",
      "    radius (worst):                       7.93   36.04\n",
      "    texture (worst):                      12.02  49.54\n",
      "    perimeter (worst):                    50.41  251.2\n",
      "    area (worst):                         185.2  4254.0\n",
      "    smoothness (worst):                   0.071  0.223\n",
      "    compactness (worst):                  0.027  1.058\n",
      "    concavity (worst):                    0.0    1.252\n",
      "    concave points (worst):               0.0    0.291\n",
      "    symmetry (worst):                     0.156  0.664\n",
      "    fractal dimension (worst):            0.055  0.208\n",
      "    ===================================== ====== ======\n",
      "\n",
      "    :Missing Attribute Values: None\n",
      "\n",
      "    :Class Distribution: 212 - Malignant, 357 - Benign\n",
      "\n",
      "    :Creator:  Dr. William H. Wolberg, W. Nick Street, Olvi L. Mangasarian\n",
      "\n",
      "    :Donor: Nick Street\n",
      "\n",
      "    :Date: November, 1995\n",
      "\n",
      "This is a copy of UCI ML Breast Cancer Wisconsin (Diagnostic) datasets.\n",
      "https://goo.gl/U2Uwz2\n",
      "\n",
      "Features are computed from a digitized image of a fine needle\n",
      "aspirate (FNA) of a breast mass.  They describe\n",
      "characteristics of the cell nuclei present in the image.\n",
      "\n",
      "Separating plane described above was obtained using\n",
      "Multisurface Method-Tree (MSM-T) [K. P. Bennett, \"Decision Tree\n",
      "Construction Via Linear Programming.\" Proceedings of the 4th\n",
      "Midwest Artificial Intelligence and Cognitive Science Society,\n",
      "pp. 97-101, 1992], a classification method which uses linear\n",
      "programming to construct a decision tree.  Relevant features\n",
      "were selected using an exhaustive search in the space of 1-4\n",
      "features and 1-3 separating planes.\n",
      "\n",
      "The actual linear program used to obtain the separating plane\n",
      "in the 3-dimensional space is that described in:\n",
      "[K. P. Bennett and O. L. Mangasarian: \"Robust Linear\n",
      "Programming Discrimination of Two Linearly Inseparable Sets\",\n",
      "Optimization Methods and Software 1, 1992, 23-34].\n",
      "\n",
      "This database is also available through the UW CS ftp server:\n",
      "\n",
      "ftp ftp.cs.wisc.edu\n",
      "cd math-prog/cpo-dataset/machine-learn/WDBC/\n",
      "\n",
      ".. topic:: References\n",
      "\n",
      "   - W.N. Street, W.H. Wolberg and O.L. Mangasarian. Nuclear feature extraction \n",
      "     for breast tumor diagnosis. IS&T/SPIE 1993 International Symposium on \n",
      "     Electronic Imaging: Science and Technology, volume 1905, pages 861-870,\n",
      "     San Jose, CA, 1993.\n",
      "   - O.L. Mangasarian, W.N. Street and W.H. Wolberg. Breast cancer diagnosis and \n",
      "     prognosis via linear programming. Operations Research, 43(4), pages 570-577, \n",
      "     July-August 1995.\n",
      "   - W.H. Wolberg, W.N. Street, and O.L. Mangasarian. Machine learning techniques\n",
      "     to diagnose breast cancer from fine-needle aspirates. Cancer Letters 77 (1994) \n",
      "     163-171.\n"
     ]
    }
   ],
   "source": [
    "# ProfileReport(data) -> if we wanted detail \n",
    "print(cancer_dataset['DESCR'])"
   ]
  },
  {
   "cell_type": "markdown",
   "id": "d80635c4",
   "metadata": {
    "papermill": {
     "duration": 0.02041,
     "end_time": "2023-02-18T20:01:25.872583",
     "exception": false,
     "start_time": "2023-02-18T20:01:25.852173",
     "status": "completed"
    },
    "tags": []
   },
   "source": [
    "### Feature DataFrame"
   ]
  },
  {
   "cell_type": "code",
   "execution_count": 4,
   "id": "8785337b",
   "metadata": {
    "execution": {
     "iopub.execute_input": "2023-02-18T20:01:25.915327Z",
     "iopub.status.busy": "2023-02-18T20:01:25.914851Z",
     "iopub.status.idle": "2023-02-18T20:01:25.937070Z",
     "shell.execute_reply": "2023-02-18T20:01:25.934815Z"
    },
    "papermill": {
     "duration": 0.046764,
     "end_time": "2023-02-18T20:01:25.939786",
     "exception": false,
     "start_time": "2023-02-18T20:01:25.893022",
     "status": "completed"
    },
    "tags": []
   },
   "outputs": [
    {
     "name": "stdout",
     "output_type": "stream",
     "text": [
      "<class 'pandas.core.frame.DataFrame'>\n",
      "RangeIndex: 569 entries, 0 to 568\n",
      "Data columns (total 30 columns):\n",
      " #   Column                   Non-Null Count  Dtype  \n",
      "---  ------                   --------------  -----  \n",
      " 0   mean radius              569 non-null    float64\n",
      " 1   mean texture             569 non-null    float64\n",
      " 2   mean perimeter           569 non-null    float64\n",
      " 3   mean area                569 non-null    float64\n",
      " 4   mean smoothness          569 non-null    float64\n",
      " 5   mean compactness         569 non-null    float64\n",
      " 6   mean concavity           569 non-null    float64\n",
      " 7   mean concave points      569 non-null    float64\n",
      " 8   mean symmetry            569 non-null    float64\n",
      " 9   mean fractal dimension   569 non-null    float64\n",
      " 10  radius error             569 non-null    float64\n",
      " 11  texture error            569 non-null    float64\n",
      " 12  perimeter error          569 non-null    float64\n",
      " 13  area error               569 non-null    float64\n",
      " 14  smoothness error         569 non-null    float64\n",
      " 15  compactness error        569 non-null    float64\n",
      " 16  concavity error          569 non-null    float64\n",
      " 17  concave points error     569 non-null    float64\n",
      " 18  symmetry error           569 non-null    float64\n",
      " 19  fractal dimension error  569 non-null    float64\n",
      " 20  worst radius             569 non-null    float64\n",
      " 21  worst texture            569 non-null    float64\n",
      " 22  worst perimeter          569 non-null    float64\n",
      " 23  worst area               569 non-null    float64\n",
      " 24  worst smoothness         569 non-null    float64\n",
      " 25  worst compactness        569 non-null    float64\n",
      " 26  worst concavity          569 non-null    float64\n",
      " 27  worst concave points     569 non-null    float64\n",
      " 28  worst symmetry           569 non-null    float64\n",
      " 29  worst fractal dimension  569 non-null    float64\n",
      "dtypes: float64(30)\n",
      "memory usage: 133.5 KB\n"
     ]
    }
   ],
   "source": [
    "df_feat = pd.DataFrame(cancer_dataset['data'],columns=cancer_dataset['feature_names'])\n",
    "df_feat.info()"
   ]
  },
  {
   "cell_type": "markdown",
   "id": "cccc5a05",
   "metadata": {
    "papermill": {
     "duration": 0.020127,
     "end_time": "2023-02-18T20:01:25.980591",
     "exception": false,
     "start_time": "2023-02-18T20:01:25.960464",
     "status": "completed"
    },
    "tags": []
   },
   "source": [
    "### Target DataFrame"
   ]
  },
  {
   "cell_type": "code",
   "execution_count": 5,
   "id": "c6b67d67",
   "metadata": {
    "execution": {
     "iopub.execute_input": "2023-02-18T20:01:26.023791Z",
     "iopub.status.busy": "2023-02-18T20:01:26.023005Z",
     "iopub.status.idle": "2023-02-18T20:01:26.032467Z",
     "shell.execute_reply": "2023-02-18T20:01:26.030836Z"
    },
    "papermill": {
     "duration": 0.034173,
     "end_time": "2023-02-18T20:01:26.035196",
     "exception": false,
     "start_time": "2023-02-18T20:01:26.001023",
     "status": "completed"
    },
    "tags": []
   },
   "outputs": [
    {
     "name": "stdout",
     "output_type": "stream",
     "text": [
      "     Cancer\n",
      "0         0\n",
      "1         0\n",
      "2         0\n",
      "3         0\n",
      "4         0\n",
      "..      ...\n",
      "564       0\n",
      "565       0\n",
      "566       0\n",
      "567       0\n",
      "568       1\n",
      "\n",
      "[569 rows x 1 columns]\n"
     ]
    }
   ],
   "source": [
    "df_target = pd.DataFrame(cancer_dataset['target'],columns=['Cancer'])\n",
    "print(df_target)\n",
    "df_target=np.ravel(df_target)  # reshaped into n samples"
   ]
  },
  {
   "cell_type": "markdown",
   "id": "609839ec",
   "metadata": {
    "papermill": {
     "duration": 0.020569,
     "end_time": "2023-02-18T20:01:26.076836",
     "exception": false,
     "start_time": "2023-02-18T20:01:26.056267",
     "status": "completed"
    },
    "tags": []
   },
   "source": [
    "### Null Value Check"
   ]
  },
  {
   "cell_type": "code",
   "execution_count": 6,
   "id": "45712e25",
   "metadata": {
    "execution": {
     "iopub.execute_input": "2023-02-18T20:01:26.120723Z",
     "iopub.status.busy": "2023-02-18T20:01:26.119727Z",
     "iopub.status.idle": "2023-02-18T20:01:26.128952Z",
     "shell.execute_reply": "2023-02-18T20:01:26.127972Z"
    },
    "papermill": {
     "duration": 0.033679,
     "end_time": "2023-02-18T20:01:26.131139",
     "exception": false,
     "start_time": "2023-02-18T20:01:26.097460",
     "status": "completed"
    },
    "tags": []
   },
   "outputs": [
    {
     "data": {
      "text/plain": [
       "mean radius                0\n",
       "mean texture               0\n",
       "mean perimeter             0\n",
       "mean area                  0\n",
       "mean smoothness            0\n",
       "mean compactness           0\n",
       "mean concavity             0\n",
       "mean concave points        0\n",
       "mean symmetry              0\n",
       "mean fractal dimension     0\n",
       "radius error               0\n",
       "texture error              0\n",
       "perimeter error            0\n",
       "area error                 0\n",
       "smoothness error           0\n",
       "compactness error          0\n",
       "concavity error            0\n",
       "concave points error       0\n",
       "symmetry error             0\n",
       "fractal dimension error    0\n",
       "worst radius               0\n",
       "worst texture              0\n",
       "worst perimeter            0\n",
       "worst area                 0\n",
       "worst smoothness           0\n",
       "worst compactness          0\n",
       "worst concavity            0\n",
       "worst concave points       0\n",
       "worst symmetry             0\n",
       "worst fractal dimension    0\n",
       "dtype: int64"
      ]
     },
     "execution_count": 6,
     "metadata": {},
     "output_type": "execute_result"
    }
   ],
   "source": [
    "df_feat.isna().sum()"
   ]
  },
  {
   "cell_type": "markdown",
   "id": "efb8c4b2",
   "metadata": {
    "papermill": {
     "duration": 0.020895,
     "end_time": "2023-02-18T20:01:26.173360",
     "exception": false,
     "start_time": "2023-02-18T20:01:26.152465",
     "status": "completed"
    },
    "tags": []
   },
   "source": [
    "#### Incase target DF wasnt N sample I would use label encoder to convert "
   ]
  },
  {
   "cell_type": "markdown",
   "id": "157413a7",
   "metadata": {
    "papermill": {
     "duration": 0.020624,
     "end_time": "2023-02-18T20:01:26.215600",
     "exception": false,
     "start_time": "2023-02-18T20:01:26.194976",
     "status": "completed"
    },
    "tags": []
   },
   "source": [
    "## Splitting Data -> Test Train Split"
   ]
  },
  {
   "cell_type": "code",
   "execution_count": 7,
   "id": "f7825537",
   "metadata": {
    "execution": {
     "iopub.execute_input": "2023-02-18T20:01:26.260032Z",
     "iopub.status.busy": "2023-02-18T20:01:26.259393Z",
     "iopub.status.idle": "2023-02-18T20:01:26.315688Z",
     "shell.execute_reply": "2023-02-18T20:01:26.314507Z"
    },
    "papermill": {
     "duration": 0.081378,
     "end_time": "2023-02-18T20:01:26.318481",
     "exception": false,
     "start_time": "2023-02-18T20:01:26.237103",
     "status": "completed"
    },
    "tags": []
   },
   "outputs": [],
   "source": [
    "from sklearn.model_selection import train_test_split"
   ]
  },
  {
   "cell_type": "code",
   "execution_count": 8,
   "id": "85e6080b",
   "metadata": {
    "execution": {
     "iopub.execute_input": "2023-02-18T20:01:26.363007Z",
     "iopub.status.busy": "2023-02-18T20:01:26.362091Z",
     "iopub.status.idle": "2023-02-18T20:01:26.370528Z",
     "shell.execute_reply": "2023-02-18T20:01:26.369306Z"
    },
    "papermill": {
     "duration": 0.033336,
     "end_time": "2023-02-18T20:01:26.372680",
     "exception": false,
     "start_time": "2023-02-18T20:01:26.339344",
     "status": "completed"
    },
    "tags": []
   },
   "outputs": [],
   "source": [
    "X_train, X_test, y_train, y_test = train_test_split(df_feat, df_target, test_size=0.30, random_state=101)"
   ]
  },
  {
   "cell_type": "code",
   "execution_count": 9,
   "id": "6ad26c6d",
   "metadata": {
    "execution": {
     "iopub.execute_input": "2023-02-18T20:01:26.416396Z",
     "iopub.status.busy": "2023-02-18T20:01:26.415737Z",
     "iopub.status.idle": "2023-02-18T20:01:26.420591Z",
     "shell.execute_reply": "2023-02-18T20:01:26.419767Z"
    },
    "papermill": {
     "duration": 0.029405,
     "end_time": "2023-02-18T20:01:26.422819",
     "exception": false,
     "start_time": "2023-02-18T20:01:26.393414",
     "status": "completed"
    },
    "tags": []
   },
   "outputs": [],
   "source": [
    "accuracy_only = {}"
   ]
  },
  {
   "cell_type": "markdown",
   "id": "6c46ab58",
   "metadata": {
    "papermill": {
     "duration": 0.020297,
     "end_time": "2023-02-18T20:01:26.464230",
     "exception": false,
     "start_time": "2023-02-18T20:01:26.443933",
     "status": "completed"
    },
    "tags": []
   },
   "source": [
    "# Application of ML models & accuracy"
   ]
  },
  {
   "cell_type": "markdown",
   "id": "b8fa4b77",
   "metadata": {
    "papermill": {
     "duration": 0.020542,
     "end_time": "2023-02-18T20:01:26.505687",
     "exception": false,
     "start_time": "2023-02-18T20:01:26.485145",
     "status": "completed"
    },
    "tags": []
   },
   "source": [
    "## 1. Logistics Regression"
   ]
  },
  {
   "cell_type": "code",
   "execution_count": 10,
   "id": "3bf41c73",
   "metadata": {
    "execution": {
     "iopub.execute_input": "2023-02-18T20:01:26.549100Z",
     "iopub.status.busy": "2023-02-18T20:01:26.548426Z",
     "iopub.status.idle": "2023-02-18T20:01:26.622882Z",
     "shell.execute_reply": "2023-02-18T20:01:26.621574Z"
    },
    "papermill": {
     "duration": 0.099676,
     "end_time": "2023-02-18T20:01:26.625986",
     "exception": false,
     "start_time": "2023-02-18T20:01:26.526310",
     "status": "completed"
    },
    "tags": []
   },
   "outputs": [],
   "source": [
    "from sklearn.linear_model import LogisticRegression\n",
    "from sklearn import metrics as ms"
   ]
  },
  {
   "cell_type": "code",
   "execution_count": 11,
   "id": "5d0f610b",
   "metadata": {
    "execution": {
     "iopub.execute_input": "2023-02-18T20:01:26.669593Z",
     "iopub.status.busy": "2023-02-18T20:01:26.668869Z",
     "iopub.status.idle": "2023-02-18T20:01:26.673678Z",
     "shell.execute_reply": "2023-02-18T20:01:26.672873Z"
    },
    "papermill": {
     "duration": 0.029024,
     "end_time": "2023-02-18T20:01:26.675787",
     "exception": false,
     "start_time": "2023-02-18T20:01:26.646763",
     "status": "completed"
    },
    "tags": []
   },
   "outputs": [],
   "source": [
    "# Define model and its parameters\n",
    "log_reg = LogisticRegression()"
   ]
  },
  {
   "cell_type": "code",
   "execution_count": 12,
   "id": "75380646",
   "metadata": {
    "execution": {
     "iopub.execute_input": "2023-02-18T20:01:26.719153Z",
     "iopub.status.busy": "2023-02-18T20:01:26.718498Z",
     "iopub.status.idle": "2023-02-18T20:01:26.797266Z",
     "shell.execute_reply": "2023-02-18T20:01:26.795693Z"
    },
    "papermill": {
     "duration": 0.105267,
     "end_time": "2023-02-18T20:01:26.801622",
     "exception": false,
     "start_time": "2023-02-18T20:01:26.696355",
     "status": "completed"
    },
    "tags": []
   },
   "outputs": [
    {
     "data": {
      "text/plain": [
       "LogisticRegression()"
      ]
     },
     "execution_count": 12,
     "metadata": {},
     "output_type": "execute_result"
    }
   ],
   "source": [
    "log_reg.fit(X_train,y_train)"
   ]
  },
  {
   "cell_type": "code",
   "execution_count": 13,
   "id": "3b2f9403",
   "metadata": {
    "execution": {
     "iopub.execute_input": "2023-02-18T20:01:26.912354Z",
     "iopub.status.busy": "2023-02-18T20:01:26.911950Z",
     "iopub.status.idle": "2023-02-18T20:01:26.921243Z",
     "shell.execute_reply": "2023-02-18T20:01:26.920360Z"
    },
    "papermill": {
     "duration": 0.066158,
     "end_time": "2023-02-18T20:01:26.923306",
     "exception": false,
     "start_time": "2023-02-18T20:01:26.857148",
     "status": "completed"
    },
    "tags": []
   },
   "outputs": [
    {
     "data": {
      "text/plain": [
       "array([1, 1, 1, 0, 1, 1, 1, 0, 1, 1, 0, 1, 1, 1, 0, 1, 1, 1, 0, 1, 1, 1,\n",
       "       1, 1, 0, 1, 0, 1, 0, 0, 1, 0, 1, 0, 1, 1, 0, 1, 0, 0, 0, 1, 1, 1,\n",
       "       1, 1, 0, 0, 1, 1, 0, 1, 1, 0, 1, 1, 0, 0, 1, 1, 0, 1, 1, 1, 0, 1,\n",
       "       1, 0, 0, 1, 0, 1, 1, 1, 0, 0, 1, 1, 0, 1, 1, 1, 1, 1, 1, 1, 0, 1,\n",
       "       0, 0, 1, 0, 0, 1, 1, 1, 1, 1, 0, 0, 0, 1, 1, 1, 1, 1, 1, 1, 1, 1,\n",
       "       1, 1, 1, 0, 0, 1, 1, 0, 0, 0, 0, 0, 0, 1, 1, 1, 1, 1, 1, 1, 0, 0,\n",
       "       0, 1, 1, 1, 0, 0, 0, 1, 0, 1, 0, 1, 1, 1, 0, 1, 1, 1, 1, 0, 0, 0,\n",
       "       1, 0, 1, 0, 1, 1, 1, 1, 1, 0, 0, 1, 1, 1, 1, 1, 1])"
      ]
     },
     "execution_count": 13,
     "metadata": {},
     "output_type": "execute_result"
    }
   ],
   "source": [
    "# predicting test data\n",
    "y_pred = log_reg.predict(X_test)\n",
    "y_pred"
   ]
  },
  {
   "cell_type": "code",
   "execution_count": 14,
   "id": "5bd1f0be",
   "metadata": {
    "execution": {
     "iopub.execute_input": "2023-02-18T20:01:26.966998Z",
     "iopub.status.busy": "2023-02-18T20:01:26.966266Z",
     "iopub.status.idle": "2023-02-18T20:01:26.977191Z",
     "shell.execute_reply": "2023-02-18T20:01:26.975923Z"
    },
    "papermill": {
     "duration": 0.035491,
     "end_time": "2023-02-18T20:01:26.979585",
     "exception": false,
     "start_time": "2023-02-18T20:01:26.944094",
     "status": "completed"
    },
    "tags": []
   },
   "outputs": [
    {
     "name": "stdout",
     "output_type": "stream",
     "text": [
      "Accuracy of logistic regression classifier on test set: 92.40%\n"
     ]
    }
   ],
   "source": [
    "print('Accuracy of logistic regression classifier on test set: {:.2f}%'.format(log_reg.score(X_test, y_test)*100))\n",
    "accuracy_only['Logistic Regression'] = log_reg.score(X_test,y_test)*100"
   ]
  },
  {
   "cell_type": "code",
   "execution_count": 15,
   "id": "3975f4ca",
   "metadata": {
    "execution": {
     "iopub.execute_input": "2023-02-18T20:01:27.023416Z",
     "iopub.status.busy": "2023-02-18T20:01:27.022976Z",
     "iopub.status.idle": "2023-02-18T20:01:27.033788Z",
     "shell.execute_reply": "2023-02-18T20:01:27.032536Z"
    },
    "papermill": {
     "duration": 0.03555,
     "end_time": "2023-02-18T20:01:27.036188",
     "exception": false,
     "start_time": "2023-02-18T20:01:27.000638",
     "status": "completed"
    },
    "tags": []
   },
   "outputs": [
    {
     "data": {
      "text/plain": [
       "array([[ 57,   9],\n",
       "       [  4, 101]])"
      ]
     },
     "execution_count": 15,
     "metadata": {},
     "output_type": "execute_result"
    }
   ],
   "source": [
    "# Confusion Matrix\n",
    "ms.confusion_matrix(y_test,y_pred)"
   ]
  },
  {
   "cell_type": "code",
   "execution_count": 16,
   "id": "3b4b618d",
   "metadata": {
    "execution": {
     "iopub.execute_input": "2023-02-18T20:01:27.080578Z",
     "iopub.status.busy": "2023-02-18T20:01:27.080124Z",
     "iopub.status.idle": "2023-02-18T20:01:27.092036Z",
     "shell.execute_reply": "2023-02-18T20:01:27.090358Z"
    },
    "papermill": {
     "duration": 0.037553,
     "end_time": "2023-02-18T20:01:27.095013",
     "exception": false,
     "start_time": "2023-02-18T20:01:27.057460",
     "status": "completed"
    },
    "tags": []
   },
   "outputs": [
    {
     "name": "stdout",
     "output_type": "stream",
     "text": [
      "              precision    recall  f1-score   support\n",
      "\n",
      "           0       0.93      0.86      0.90        66\n",
      "           1       0.92      0.96      0.94       105\n",
      "\n",
      "    accuracy                           0.92       171\n",
      "   macro avg       0.93      0.91      0.92       171\n",
      "weighted avg       0.92      0.92      0.92       171\n",
      "\n"
     ]
    }
   ],
   "source": [
    "print(ms.classification_report(y_test,y_pred))"
   ]
  },
  {
   "cell_type": "markdown",
   "id": "6cc909e4",
   "metadata": {
    "papermill": {
     "duration": 0.021047,
     "end_time": "2023-02-18T20:01:27.137756",
     "exception": false,
     "start_time": "2023-02-18T20:01:27.116709",
     "status": "completed"
    },
    "tags": []
   },
   "source": [
    "## 2. Decision Tree"
   ]
  },
  {
   "cell_type": "code",
   "execution_count": 17,
   "id": "6ea11748",
   "metadata": {
    "execution": {
     "iopub.execute_input": "2023-02-18T20:01:27.182001Z",
     "iopub.status.busy": "2023-02-18T20:01:27.181612Z",
     "iopub.status.idle": "2023-02-18T20:01:27.261917Z",
     "shell.execute_reply": "2023-02-18T20:01:27.260812Z"
    },
    "papermill": {
     "duration": 0.105696,
     "end_time": "2023-02-18T20:01:27.264673",
     "exception": false,
     "start_time": "2023-02-18T20:01:27.158977",
     "status": "completed"
    },
    "tags": []
   },
   "outputs": [],
   "source": [
    "from sklearn.tree import DecisionTreeClassifier,plot_tree"
   ]
  },
  {
   "cell_type": "code",
   "execution_count": 18,
   "id": "c4c3193b",
   "metadata": {
    "execution": {
     "iopub.execute_input": "2023-02-18T20:01:27.309151Z",
     "iopub.status.busy": "2023-02-18T20:01:27.308744Z",
     "iopub.status.idle": "2023-02-18T20:01:27.314014Z",
     "shell.execute_reply": "2023-02-18T20:01:27.313023Z"
    },
    "papermill": {
     "duration": 0.029929,
     "end_time": "2023-02-18T20:01:27.316221",
     "exception": false,
     "start_time": "2023-02-18T20:01:27.286292",
     "status": "completed"
    },
    "tags": []
   },
   "outputs": [],
   "source": [
    "DT = DecisionTreeClassifier()"
   ]
  },
  {
   "cell_type": "code",
   "execution_count": 19,
   "id": "d73a0c97",
   "metadata": {
    "execution": {
     "iopub.execute_input": "2023-02-18T20:01:27.361205Z",
     "iopub.status.busy": "2023-02-18T20:01:27.360798Z",
     "iopub.status.idle": "2023-02-18T20:01:27.376239Z",
     "shell.execute_reply": "2023-02-18T20:01:27.375229Z"
    },
    "papermill": {
     "duration": 0.041132,
     "end_time": "2023-02-18T20:01:27.378700",
     "exception": false,
     "start_time": "2023-02-18T20:01:27.337568",
     "status": "completed"
    },
    "tags": []
   },
   "outputs": [],
   "source": [
    "DT = DT.fit(X_train,y_train)"
   ]
  },
  {
   "cell_type": "code",
   "execution_count": 20,
   "id": "33b90c48",
   "metadata": {
    "execution": {
     "iopub.execute_input": "2023-02-18T20:01:27.423321Z",
     "iopub.status.busy": "2023-02-18T20:01:27.422915Z",
     "iopub.status.idle": "2023-02-18T20:01:27.430823Z",
     "shell.execute_reply": "2023-02-18T20:01:27.429644Z"
    },
    "papermill": {
     "duration": 0.032777,
     "end_time": "2023-02-18T20:01:27.433088",
     "exception": false,
     "start_time": "2023-02-18T20:01:27.400311",
     "status": "completed"
    },
    "tags": []
   },
   "outputs": [],
   "source": [
    "y_pred = DT.predict(X_test)"
   ]
  },
  {
   "cell_type": "code",
   "execution_count": 21,
   "id": "b2f76852",
   "metadata": {
    "execution": {
     "iopub.execute_input": "2023-02-18T20:01:27.478431Z",
     "iopub.status.busy": "2023-02-18T20:01:27.477986Z",
     "iopub.status.idle": "2023-02-18T20:01:27.488884Z",
     "shell.execute_reply": "2023-02-18T20:01:27.487467Z"
    },
    "papermill": {
     "duration": 0.036958,
     "end_time": "2023-02-18T20:01:27.491185",
     "exception": false,
     "start_time": "2023-02-18T20:01:27.454227",
     "status": "completed"
    },
    "tags": []
   },
   "outputs": [
    {
     "name": "stdout",
     "output_type": "stream",
     "text": [
      "Accuracy of Decision Tree classifier on test set: 91.23%\n"
     ]
    }
   ],
   "source": [
    "print('Accuracy of Decision Tree classifier on test set: {:.2f}%'.format(DT.score(X_test, y_test)*100))\n",
    "accuracy_only['Decision Tree'] = DT.score(X_test,y_test)*100"
   ]
  },
  {
   "cell_type": "code",
   "execution_count": 22,
   "id": "0a3c021f",
   "metadata": {
    "execution": {
     "iopub.execute_input": "2023-02-18T20:01:27.536153Z",
     "iopub.status.busy": "2023-02-18T20:01:27.535736Z",
     "iopub.status.idle": "2023-02-18T20:01:27.544245Z",
     "shell.execute_reply": "2023-02-18T20:01:27.543364Z"
    },
    "papermill": {
     "duration": 0.033984,
     "end_time": "2023-02-18T20:01:27.546505",
     "exception": false,
     "start_time": "2023-02-18T20:01:27.512521",
     "status": "completed"
    },
    "tags": []
   },
   "outputs": [
    {
     "data": {
      "text/plain": [
       "array([[58,  8],\n",
       "       [ 7, 98]])"
      ]
     },
     "execution_count": 22,
     "metadata": {},
     "output_type": "execute_result"
    }
   ],
   "source": [
    "# Confusion Matrix\n",
    "ms.confusion_matrix(y_test,y_pred)"
   ]
  },
  {
   "cell_type": "code",
   "execution_count": 23,
   "id": "47d9838e",
   "metadata": {
    "execution": {
     "iopub.execute_input": "2023-02-18T20:01:27.591599Z",
     "iopub.status.busy": "2023-02-18T20:01:27.590761Z",
     "iopub.status.idle": "2023-02-18T20:01:27.600987Z",
     "shell.execute_reply": "2023-02-18T20:01:27.599640Z"
    },
    "papermill": {
     "duration": 0.035515,
     "end_time": "2023-02-18T20:01:27.603323",
     "exception": false,
     "start_time": "2023-02-18T20:01:27.567808",
     "status": "completed"
    },
    "tags": []
   },
   "outputs": [
    {
     "name": "stdout",
     "output_type": "stream",
     "text": [
      "              precision    recall  f1-score   support\n",
      "\n",
      "           0       0.89      0.88      0.89        66\n",
      "           1       0.92      0.93      0.93       105\n",
      "\n",
      "    accuracy                           0.91       171\n",
      "   macro avg       0.91      0.91      0.91       171\n",
      "weighted avg       0.91      0.91      0.91       171\n",
      "\n"
     ]
    }
   ],
   "source": [
    "print(ms.classification_report(y_test,y_pred))"
   ]
  },
  {
   "cell_type": "markdown",
   "id": "1602be70",
   "metadata": {
    "papermill": {
     "duration": 0.020965,
     "end_time": "2023-02-18T20:01:27.645482",
     "exception": false,
     "start_time": "2023-02-18T20:01:27.624517",
     "status": "completed"
    },
    "tags": []
   },
   "source": [
    "## 3. Random Forest"
   ]
  },
  {
   "cell_type": "code",
   "execution_count": 24,
   "id": "11126d37",
   "metadata": {
    "execution": {
     "iopub.execute_input": "2023-02-18T20:01:27.689796Z",
     "iopub.status.busy": "2023-02-18T20:01:27.689400Z",
     "iopub.status.idle": "2023-02-18T20:01:27.752324Z",
     "shell.execute_reply": "2023-02-18T20:01:27.751430Z"
    },
    "papermill": {
     "duration": 0.088099,
     "end_time": "2023-02-18T20:01:27.754833",
     "exception": false,
     "start_time": "2023-02-18T20:01:27.666734",
     "status": "completed"
    },
    "tags": []
   },
   "outputs": [],
   "source": [
    "from sklearn.ensemble import RandomForestClassifier"
   ]
  },
  {
   "cell_type": "code",
   "execution_count": 25,
   "id": "a7acf828",
   "metadata": {
    "execution": {
     "iopub.execute_input": "2023-02-18T20:01:27.804978Z",
     "iopub.status.busy": "2023-02-18T20:01:27.803930Z",
     "iopub.status.idle": "2023-02-18T20:01:27.808958Z",
     "shell.execute_reply": "2023-02-18T20:01:27.808121Z"
    },
    "papermill": {
     "duration": 0.033735,
     "end_time": "2023-02-18T20:01:27.811314",
     "exception": false,
     "start_time": "2023-02-18T20:01:27.777579",
     "status": "completed"
    },
    "tags": []
   },
   "outputs": [],
   "source": [
    "rf = RandomForestClassifier()"
   ]
  },
  {
   "cell_type": "code",
   "execution_count": 26,
   "id": "435f8956",
   "metadata": {
    "execution": {
     "iopub.execute_input": "2023-02-18T20:01:27.857093Z",
     "iopub.status.busy": "2023-02-18T20:01:27.855990Z",
     "iopub.status.idle": "2023-02-18T20:01:28.061906Z",
     "shell.execute_reply": "2023-02-18T20:01:28.060869Z"
    },
    "papermill": {
     "duration": 0.231282,
     "end_time": "2023-02-18T20:01:28.064177",
     "exception": false,
     "start_time": "2023-02-18T20:01:27.832895",
     "status": "completed"
    },
    "tags": []
   },
   "outputs": [
    {
     "data": {
      "text/plain": [
       "RandomForestClassifier()"
      ]
     },
     "execution_count": 26,
     "metadata": {},
     "output_type": "execute_result"
    }
   ],
   "source": [
    "rf.fit(X_train,y_train)"
   ]
  },
  {
   "cell_type": "code",
   "execution_count": 27,
   "id": "da48b7b7",
   "metadata": {
    "execution": {
     "iopub.execute_input": "2023-02-18T20:01:28.110414Z",
     "iopub.status.busy": "2023-02-18T20:01:28.109712Z",
     "iopub.status.idle": "2023-02-18T20:01:28.129358Z",
     "shell.execute_reply": "2023-02-18T20:01:28.128445Z"
    },
    "papermill": {
     "duration": 0.045959,
     "end_time": "2023-02-18T20:01:28.131872",
     "exception": false,
     "start_time": "2023-02-18T20:01:28.085913",
     "status": "completed"
    },
    "tags": []
   },
   "outputs": [],
   "source": [
    "y_pred = rf.predict(X_test)\n"
   ]
  },
  {
   "cell_type": "code",
   "execution_count": 28,
   "id": "fd806894",
   "metadata": {
    "execution": {
     "iopub.execute_input": "2023-02-18T20:01:28.177481Z",
     "iopub.status.busy": "2023-02-18T20:01:28.176794Z",
     "iopub.status.idle": "2023-02-18T20:01:28.183365Z",
     "shell.execute_reply": "2023-02-18T20:01:28.182495Z"
    },
    "papermill": {
     "duration": 0.031739,
     "end_time": "2023-02-18T20:01:28.185409",
     "exception": false,
     "start_time": "2023-02-18T20:01:28.153670",
     "status": "completed"
    },
    "tags": []
   },
   "outputs": [
    {
     "data": {
      "text/plain": [
       "array([[ 61,   5],\n",
       "       [  3, 102]])"
      ]
     },
     "execution_count": 28,
     "metadata": {},
     "output_type": "execute_result"
    }
   ],
   "source": [
    "# Confusion Matrix\n",
    "ms.confusion_matrix(y_test,y_pred)"
   ]
  },
  {
   "cell_type": "code",
   "execution_count": 29,
   "id": "cf576965",
   "metadata": {
    "execution": {
     "iopub.execute_input": "2023-02-18T20:01:28.231194Z",
     "iopub.status.busy": "2023-02-18T20:01:28.230523Z",
     "iopub.status.idle": "2023-02-18T20:01:28.268173Z",
     "shell.execute_reply": "2023-02-18T20:01:28.266738Z"
    },
    "papermill": {
     "duration": 0.063512,
     "end_time": "2023-02-18T20:01:28.270851",
     "exception": false,
     "start_time": "2023-02-18T20:01:28.207339",
     "status": "completed"
    },
    "tags": []
   },
   "outputs": [
    {
     "name": "stdout",
     "output_type": "stream",
     "text": [
      "Accuracy of Random Forest classifier on test set: 95.32%\n"
     ]
    }
   ],
   "source": [
    "print('Accuracy of Random Forest classifier on test set: {:.2f}%'.format(rf.score(X_test, y_test)*100))\n",
    "accuracy_only['Random Forest'] = rf.score(X_test,y_test)*100"
   ]
  },
  {
   "cell_type": "code",
   "execution_count": 30,
   "id": "e68af9d3",
   "metadata": {
    "execution": {
     "iopub.execute_input": "2023-02-18T20:01:28.316672Z",
     "iopub.status.busy": "2023-02-18T20:01:28.316220Z",
     "iopub.status.idle": "2023-02-18T20:01:28.327827Z",
     "shell.execute_reply": "2023-02-18T20:01:28.326363Z"
    },
    "papermill": {
     "duration": 0.037447,
     "end_time": "2023-02-18T20:01:28.330201",
     "exception": false,
     "start_time": "2023-02-18T20:01:28.292754",
     "status": "completed"
    },
    "tags": []
   },
   "outputs": [
    {
     "name": "stdout",
     "output_type": "stream",
     "text": [
      "              precision    recall  f1-score   support\n",
      "\n",
      "           0       0.95      0.92      0.94        66\n",
      "           1       0.95      0.97      0.96       105\n",
      "\n",
      "    accuracy                           0.95       171\n",
      "   macro avg       0.95      0.95      0.95       171\n",
      "weighted avg       0.95      0.95      0.95       171\n",
      "\n"
     ]
    }
   ],
   "source": [
    "print(ms.classification_report(y_test,y_pred))"
   ]
  },
  {
   "cell_type": "markdown",
   "id": "f1cc5099",
   "metadata": {
    "papermill": {
     "duration": 0.022402,
     "end_time": "2023-02-18T20:01:28.374844",
     "exception": false,
     "start_time": "2023-02-18T20:01:28.352442",
     "status": "completed"
    },
    "tags": []
   },
   "source": [
    "## 4.Stochastic Gradient Descent"
   ]
  },
  {
   "cell_type": "code",
   "execution_count": 31,
   "id": "e1f4db6b",
   "metadata": {
    "execution": {
     "iopub.execute_input": "2023-02-18T20:01:28.420308Z",
     "iopub.status.busy": "2023-02-18T20:01:28.419895Z",
     "iopub.status.idle": "2023-02-18T20:01:28.425129Z",
     "shell.execute_reply": "2023-02-18T20:01:28.423946Z"
    },
    "papermill": {
     "duration": 0.030471,
     "end_time": "2023-02-18T20:01:28.427325",
     "exception": false,
     "start_time": "2023-02-18T20:01:28.396854",
     "status": "completed"
    },
    "tags": []
   },
   "outputs": [],
   "source": [
    "from sklearn.linear_model import SGDClassifier"
   ]
  },
  {
   "cell_type": "code",
   "execution_count": 32,
   "id": "94f15dfb",
   "metadata": {
    "execution": {
     "iopub.execute_input": "2023-02-18T20:01:28.473109Z",
     "iopub.status.busy": "2023-02-18T20:01:28.472710Z",
     "iopub.status.idle": "2023-02-18T20:01:28.478025Z",
     "shell.execute_reply": "2023-02-18T20:01:28.477028Z"
    },
    "papermill": {
     "duration": 0.031462,
     "end_time": "2023-02-18T20:01:28.480538",
     "exception": false,
     "start_time": "2023-02-18T20:01:28.449076",
     "status": "completed"
    },
    "tags": []
   },
   "outputs": [],
   "source": [
    "sgd = SGDClassifier()"
   ]
  },
  {
   "cell_type": "code",
   "execution_count": 33,
   "id": "97335261",
   "metadata": {
    "execution": {
     "iopub.execute_input": "2023-02-18T20:01:28.528660Z",
     "iopub.status.busy": "2023-02-18T20:01:28.527519Z",
     "iopub.status.idle": "2023-02-18T20:01:28.539203Z",
     "shell.execute_reply": "2023-02-18T20:01:28.538334Z"
    },
    "papermill": {
     "duration": 0.037171,
     "end_time": "2023-02-18T20:01:28.541428",
     "exception": false,
     "start_time": "2023-02-18T20:01:28.504257",
     "status": "completed"
    },
    "tags": []
   },
   "outputs": [
    {
     "data": {
      "text/plain": [
       "SGDClassifier()"
      ]
     },
     "execution_count": 33,
     "metadata": {},
     "output_type": "execute_result"
    }
   ],
   "source": [
    "sgd.fit(X_train,y_train)"
   ]
  },
  {
   "cell_type": "code",
   "execution_count": 34,
   "id": "5ed6d597",
   "metadata": {
    "execution": {
     "iopub.execute_input": "2023-02-18T20:01:28.587509Z",
     "iopub.status.busy": "2023-02-18T20:01:28.586374Z",
     "iopub.status.idle": "2023-02-18T20:01:28.592848Z",
     "shell.execute_reply": "2023-02-18T20:01:28.592069Z"
    },
    "papermill": {
     "duration": 0.031746,
     "end_time": "2023-02-18T20:01:28.594984",
     "exception": false,
     "start_time": "2023-02-18T20:01:28.563238",
     "status": "completed"
    },
    "tags": []
   },
   "outputs": [],
   "source": [
    "y_pred = sgd.predict(X_test)"
   ]
  },
  {
   "cell_type": "code",
   "execution_count": 35,
   "id": "feb94b51",
   "metadata": {
    "execution": {
     "iopub.execute_input": "2023-02-18T20:01:28.641416Z",
     "iopub.status.busy": "2023-02-18T20:01:28.640422Z",
     "iopub.status.idle": "2023-02-18T20:01:28.647681Z",
     "shell.execute_reply": "2023-02-18T20:01:28.646514Z"
    },
    "papermill": {
     "duration": 0.033132,
     "end_time": "2023-02-18T20:01:28.650009",
     "exception": false,
     "start_time": "2023-02-18T20:01:28.616877",
     "status": "completed"
    },
    "tags": []
   },
   "outputs": [
    {
     "data": {
      "text/plain": [
       "array([[61,  5],\n",
       "       [33, 72]])"
      ]
     },
     "execution_count": 35,
     "metadata": {},
     "output_type": "execute_result"
    }
   ],
   "source": [
    "# Confusion Matrix\n",
    "ms.confusion_matrix(y_test,y_pred)"
   ]
  },
  {
   "cell_type": "code",
   "execution_count": 36,
   "id": "78fc20a0",
   "metadata": {
    "execution": {
     "iopub.execute_input": "2023-02-18T20:01:28.696890Z",
     "iopub.status.busy": "2023-02-18T20:01:28.695721Z",
     "iopub.status.idle": "2023-02-18T20:01:28.706474Z",
     "shell.execute_reply": "2023-02-18T20:01:28.705173Z"
    },
    "papermill": {
     "duration": 0.037003,
     "end_time": "2023-02-18T20:01:28.709194",
     "exception": false,
     "start_time": "2023-02-18T20:01:28.672191",
     "status": "completed"
    },
    "tags": []
   },
   "outputs": [
    {
     "name": "stdout",
     "output_type": "stream",
     "text": [
      "Accuracy of Stochastic Gradient Descent classifier on test set: 77.78%\n"
     ]
    }
   ],
   "source": [
    "print('Accuracy of Stochastic Gradient Descent classifier on test set: {:.2f}%'.format(sgd.score(X_test, y_test)*100))\n",
    "accuracy_only['Stochastic Gradient Descent'] = sgd.score(X_test,y_test)*100"
   ]
  },
  {
   "cell_type": "code",
   "execution_count": 37,
   "id": "8db349fa",
   "metadata": {
    "execution": {
     "iopub.execute_input": "2023-02-18T20:01:28.754953Z",
     "iopub.status.busy": "2023-02-18T20:01:28.754565Z",
     "iopub.status.idle": "2023-02-18T20:01:28.766268Z",
     "shell.execute_reply": "2023-02-18T20:01:28.764888Z"
    },
    "papermill": {
     "duration": 0.037509,
     "end_time": "2023-02-18T20:01:28.768682",
     "exception": false,
     "start_time": "2023-02-18T20:01:28.731173",
     "status": "completed"
    },
    "tags": []
   },
   "outputs": [
    {
     "name": "stdout",
     "output_type": "stream",
     "text": [
      "              precision    recall  f1-score   support\n",
      "\n",
      "           0       0.65      0.92      0.76        66\n",
      "           1       0.94      0.69      0.79       105\n",
      "\n",
      "    accuracy                           0.78       171\n",
      "   macro avg       0.79      0.80      0.78       171\n",
      "weighted avg       0.82      0.78      0.78       171\n",
      "\n"
     ]
    }
   ],
   "source": [
    "print(ms.classification_report(y_test,y_pred))"
   ]
  },
  {
   "cell_type": "markdown",
   "id": "6f7231cd",
   "metadata": {
    "papermill": {
     "duration": 0.02196,
     "end_time": "2023-02-18T20:01:28.812911",
     "exception": false,
     "start_time": "2023-02-18T20:01:28.790951",
     "status": "completed"
    },
    "tags": []
   },
   "source": [
    "## 5. Support Vector Machines(SVM)"
   ]
  },
  {
   "cell_type": "code",
   "execution_count": 38,
   "id": "09191fbf",
   "metadata": {
    "execution": {
     "iopub.execute_input": "2023-02-18T20:01:28.859411Z",
     "iopub.status.busy": "2023-02-18T20:01:28.858976Z",
     "iopub.status.idle": "2023-02-18T20:01:28.864315Z",
     "shell.execute_reply": "2023-02-18T20:01:28.863135Z"
    },
    "papermill": {
     "duration": 0.031692,
     "end_time": "2023-02-18T20:01:28.866909",
     "exception": false,
     "start_time": "2023-02-18T20:01:28.835217",
     "status": "completed"
    },
    "tags": []
   },
   "outputs": [],
   "source": [
    "from sklearn import svm"
   ]
  },
  {
   "cell_type": "code",
   "execution_count": 39,
   "id": "24f9870a",
   "metadata": {
    "execution": {
     "iopub.execute_input": "2023-02-18T20:01:28.913835Z",
     "iopub.status.busy": "2023-02-18T20:01:28.913439Z",
     "iopub.status.idle": "2023-02-18T20:01:28.918916Z",
     "shell.execute_reply": "2023-02-18T20:01:28.917514Z"
    },
    "papermill": {
     "duration": 0.032016,
     "end_time": "2023-02-18T20:01:28.921406",
     "exception": false,
     "start_time": "2023-02-18T20:01:28.889390",
     "status": "completed"
    },
    "tags": []
   },
   "outputs": [],
   "source": [
    "svm_model = svm.SVC()"
   ]
  },
  {
   "cell_type": "code",
   "execution_count": 40,
   "id": "da2dae63",
   "metadata": {
    "execution": {
     "iopub.execute_input": "2023-02-18T20:01:28.968743Z",
     "iopub.status.busy": "2023-02-18T20:01:28.968296Z",
     "iopub.status.idle": "2023-02-18T20:01:28.983088Z",
     "shell.execute_reply": "2023-02-18T20:01:28.982326Z"
    },
    "papermill": {
     "duration": 0.040754,
     "end_time": "2023-02-18T20:01:28.985180",
     "exception": false,
     "start_time": "2023-02-18T20:01:28.944426",
     "status": "completed"
    },
    "tags": []
   },
   "outputs": [
    {
     "data": {
      "text/plain": [
       "SVC()"
      ]
     },
     "execution_count": 40,
     "metadata": {},
     "output_type": "execute_result"
    }
   ],
   "source": [
    "svm_model.fit(X_train,y_train)"
   ]
  },
  {
   "cell_type": "code",
   "execution_count": 41,
   "id": "7919d2f4",
   "metadata": {
    "execution": {
     "iopub.execute_input": "2023-02-18T20:01:29.031692Z",
     "iopub.status.busy": "2023-02-18T20:01:29.031247Z",
     "iopub.status.idle": "2023-02-18T20:01:29.039538Z",
     "shell.execute_reply": "2023-02-18T20:01:29.038668Z"
    },
    "papermill": {
     "duration": 0.034084,
     "end_time": "2023-02-18T20:01:29.041714",
     "exception": false,
     "start_time": "2023-02-18T20:01:29.007630",
     "status": "completed"
    },
    "tags": []
   },
   "outputs": [],
   "source": [
    "y_pred_svm = svm_model.predict(X_test)"
   ]
  },
  {
   "cell_type": "code",
   "execution_count": 42,
   "id": "917fe515",
   "metadata": {
    "execution": {
     "iopub.execute_input": "2023-02-18T20:01:29.088661Z",
     "iopub.status.busy": "2023-02-18T20:01:29.088237Z",
     "iopub.status.idle": "2023-02-18T20:01:29.096338Z",
     "shell.execute_reply": "2023-02-18T20:01:29.095205Z"
    },
    "papermill": {
     "duration": 0.034274,
     "end_time": "2023-02-18T20:01:29.098704",
     "exception": false,
     "start_time": "2023-02-18T20:01:29.064430",
     "status": "completed"
    },
    "tags": []
   },
   "outputs": [
    {
     "data": {
      "text/plain": [
       "array([[61,  5],\n",
       "       [33, 72]])"
      ]
     },
     "execution_count": 42,
     "metadata": {},
     "output_type": "execute_result"
    }
   ],
   "source": [
    "# Confusion Matrix\n",
    "ms.confusion_matrix(y_test,y_pred)"
   ]
  },
  {
   "cell_type": "code",
   "execution_count": 43,
   "id": "8365cee3",
   "metadata": {
    "execution": {
     "iopub.execute_input": "2023-02-18T20:01:29.145368Z",
     "iopub.status.busy": "2023-02-18T20:01:29.144916Z",
     "iopub.status.idle": "2023-02-18T20:01:29.158937Z",
     "shell.execute_reply": "2023-02-18T20:01:29.157710Z"
    },
    "papermill": {
     "duration": 0.040053,
     "end_time": "2023-02-18T20:01:29.161194",
     "exception": false,
     "start_time": "2023-02-18T20:01:29.121141",
     "status": "completed"
    },
    "tags": []
   },
   "outputs": [
    {
     "name": "stdout",
     "output_type": "stream",
     "text": [
      "Accuracy of SVM classifier on test set: 92.40%\n"
     ]
    }
   ],
   "source": [
    "print('Accuracy of SVM classifier on test set: {:.2f}%'.format(svm_model.score(X_test, y_test)*100))\n",
    "accuracy_only['SVM'] = svm_model.score(X_test,y_test)*100"
   ]
  },
  {
   "cell_type": "code",
   "execution_count": 44,
   "id": "cd17babd",
   "metadata": {
    "execution": {
     "iopub.execute_input": "2023-02-18T20:01:29.207746Z",
     "iopub.status.busy": "2023-02-18T20:01:29.207358Z",
     "iopub.status.idle": "2023-02-18T20:01:29.217653Z",
     "shell.execute_reply": "2023-02-18T20:01:29.216354Z"
    },
    "papermill": {
     "duration": 0.036915,
     "end_time": "2023-02-18T20:01:29.220570",
     "exception": false,
     "start_time": "2023-02-18T20:01:29.183655",
     "status": "completed"
    },
    "tags": []
   },
   "outputs": [
    {
     "name": "stdout",
     "output_type": "stream",
     "text": [
      "              precision    recall  f1-score   support\n",
      "\n",
      "           0       0.65      0.92      0.76        66\n",
      "           1       0.94      0.69      0.79       105\n",
      "\n",
      "    accuracy                           0.78       171\n",
      "   macro avg       0.79      0.80      0.78       171\n",
      "weighted avg       0.82      0.78      0.78       171\n",
      "\n"
     ]
    }
   ],
   "source": [
    "print(ms.classification_report(y_test,y_pred))"
   ]
  },
  {
   "cell_type": "markdown",
   "id": "c552fe61",
   "metadata": {
    "papermill": {
     "duration": 0.022489,
     "end_time": "2023-02-18T20:01:29.267012",
     "exception": false,
     "start_time": "2023-02-18T20:01:29.244523",
     "status": "completed"
    },
    "tags": []
   },
   "source": [
    "### Accuracy of all models"
   ]
  },
  {
   "cell_type": "code",
   "execution_count": 45,
   "id": "e7aca4fc",
   "metadata": {
    "execution": {
     "iopub.execute_input": "2023-02-18T20:01:29.314138Z",
     "iopub.status.busy": "2023-02-18T20:01:29.313750Z",
     "iopub.status.idle": "2023-02-18T20:01:29.319743Z",
     "shell.execute_reply": "2023-02-18T20:01:29.318462Z"
    },
    "papermill": {
     "duration": 0.032584,
     "end_time": "2023-02-18T20:01:29.322090",
     "exception": false,
     "start_time": "2023-02-18T20:01:29.289506",
     "status": "completed"
    },
    "tags": []
   },
   "outputs": [],
   "source": [
    "accuracy_df = pd.DataFrame(accuracy_only.items())"
   ]
  },
  {
   "cell_type": "code",
   "execution_count": 46,
   "id": "757c68c4",
   "metadata": {
    "execution": {
     "iopub.execute_input": "2023-02-18T20:01:29.369607Z",
     "iopub.status.busy": "2023-02-18T20:01:29.369202Z",
     "iopub.status.idle": "2023-02-18T20:01:29.375290Z",
     "shell.execute_reply": "2023-02-18T20:01:29.374226Z"
    },
    "papermill": {
     "duration": 0.032836,
     "end_time": "2023-02-18T20:01:29.377477",
     "exception": false,
     "start_time": "2023-02-18T20:01:29.344641",
     "status": "completed"
    },
    "tags": []
   },
   "outputs": [],
   "source": [
    "accuracy_df.rename(columns={0:'Algorithm',1:'Accuracy(%)'},inplace=True)"
   ]
  },
  {
   "cell_type": "code",
   "execution_count": 47,
   "id": "a539a4b9",
   "metadata": {
    "execution": {
     "iopub.execute_input": "2023-02-18T20:01:29.424898Z",
     "iopub.status.busy": "2023-02-18T20:01:29.424466Z",
     "iopub.status.idle": "2023-02-18T20:01:29.435766Z",
     "shell.execute_reply": "2023-02-18T20:01:29.434534Z"
    },
    "papermill": {
     "duration": 0.038199,
     "end_time": "2023-02-18T20:01:29.438233",
     "exception": false,
     "start_time": "2023-02-18T20:01:29.400034",
     "status": "completed"
    },
    "tags": []
   },
   "outputs": [
    {
     "data": {
      "text/html": [
       "<div>\n",
       "<style scoped>\n",
       "    .dataframe tbody tr th:only-of-type {\n",
       "        vertical-align: middle;\n",
       "    }\n",
       "\n",
       "    .dataframe tbody tr th {\n",
       "        vertical-align: top;\n",
       "    }\n",
       "\n",
       "    .dataframe thead th {\n",
       "        text-align: right;\n",
       "    }\n",
       "</style>\n",
       "<table border=\"1\" class=\"dataframe\">\n",
       "  <thead>\n",
       "    <tr style=\"text-align: right;\">\n",
       "      <th></th>\n",
       "      <th>Algorithm</th>\n",
       "      <th>Accuracy(%)</th>\n",
       "    </tr>\n",
       "  </thead>\n",
       "  <tbody>\n",
       "    <tr>\n",
       "      <th>0</th>\n",
       "      <td>Logistic Regression</td>\n",
       "      <td>92.397661</td>\n",
       "    </tr>\n",
       "    <tr>\n",
       "      <th>1</th>\n",
       "      <td>Decision Tree</td>\n",
       "      <td>91.228070</td>\n",
       "    </tr>\n",
       "    <tr>\n",
       "      <th>2</th>\n",
       "      <td>Random Forest</td>\n",
       "      <td>95.321637</td>\n",
       "    </tr>\n",
       "    <tr>\n",
       "      <th>3</th>\n",
       "      <td>Stochastic Gradient Descent</td>\n",
       "      <td>77.777778</td>\n",
       "    </tr>\n",
       "    <tr>\n",
       "      <th>4</th>\n",
       "      <td>SVM</td>\n",
       "      <td>92.397661</td>\n",
       "    </tr>\n",
       "  </tbody>\n",
       "</table>\n",
       "</div>"
      ],
      "text/plain": [
       "                     Algorithm  Accuracy(%)\n",
       "0          Logistic Regression    92.397661\n",
       "1                Decision Tree    91.228070\n",
       "2                Random Forest    95.321637\n",
       "3  Stochastic Gradient Descent    77.777778\n",
       "4                          SVM    92.397661"
      ]
     },
     "execution_count": 47,
     "metadata": {},
     "output_type": "execute_result"
    }
   ],
   "source": [
    "accuracy_df"
   ]
  },
  {
   "cell_type": "markdown",
   "id": "2b068e82",
   "metadata": {
    "papermill": {
     "duration": 0.022653,
     "end_time": "2023-02-18T20:01:29.484175",
     "exception": false,
     "start_time": "2023-02-18T20:01:29.461522",
     "status": "completed"
    },
    "tags": []
   },
   "source": [
    "# Observations After applying GridSearchCV "
   ]
  },
  {
   "cell_type": "code",
   "execution_count": 48,
   "id": "b388d298",
   "metadata": {
    "execution": {
     "iopub.execute_input": "2023-02-18T20:01:29.532185Z",
     "iopub.status.busy": "2023-02-18T20:01:29.531809Z",
     "iopub.status.idle": "2023-02-18T20:01:29.535789Z",
     "shell.execute_reply": "2023-02-18T20:01:29.534892Z"
    },
    "papermill": {
     "duration": 0.031143,
     "end_time": "2023-02-18T20:01:29.537940",
     "exception": false,
     "start_time": "2023-02-18T20:01:29.506797",
     "status": "completed"
    },
    "tags": []
   },
   "outputs": [],
   "source": [
    "from sklearn.model_selection import GridSearchCV"
   ]
  },
  {
   "cell_type": "code",
   "execution_count": 49,
   "id": "c42900e8",
   "metadata": {
    "execution": {
     "iopub.execute_input": "2023-02-18T20:01:29.586167Z",
     "iopub.status.busy": "2023-02-18T20:01:29.585575Z",
     "iopub.status.idle": "2023-02-18T20:01:29.594631Z",
     "shell.execute_reply": "2023-02-18T20:01:29.593632Z"
    },
    "papermill": {
     "duration": 0.035738,
     "end_time": "2023-02-18T20:01:29.596991",
     "exception": false,
     "start_time": "2023-02-18T20:01:29.561253",
     "status": "completed"
    },
    "tags": []
   },
   "outputs": [],
   "source": [
    "model_params ={\n",
    "    'logistic_regression':{\n",
    "        'model':LogisticRegression(),\n",
    "        'params':{\n",
    "            'max_iter':[500,1000],\n",
    "#             'C':[1,5,10],\n",
    "            'penalty':['l1','l2']\n",
    "        }\n",
    "    },\n",
    "    'decision_tree':{\n",
    "        'model':DecisionTreeClassifier(),\n",
    "        'params':{\n",
    "            'criterion':['gini', 'entropy', 'log_loss'],\n",
    "            'splitter': ['best','random'],\n",
    "            'ccp_alpha':[0.01,0.001,0.0001,0.00455],\n",
    "            'random_state':[0,1,42,10]\n",
    "        }\n",
    "    },\n",
    "    'random_forest':{\n",
    "        'model':RandomForestClassifier(),\n",
    "        'params':{\n",
    "            'n_estimators':[10,50,100,1000],\n",
    "            'criterion':['gini', 'entropy', 'log_loss'],\n",
    "            'random_state':[0,1,3,42,10],\n",
    "            'ccp_alpha':[0.01,0.001,0.0001,0.025],\n",
    "        }\n",
    "    },\n",
    "    'SGD':{\n",
    "        'model':SGDClassifier(),\n",
    "        'params':{\n",
    "            'loss':['hinge','log_loss','modified_huber'],\n",
    "            'penalty':['l1', 'l2', 'elasticnet'],\n",
    "            'alpha':[0.01,0.001,0.0001],\n",
    "            'random_state':[0,1,3,42,10]\n",
    "        }\n",
    "    },\n",
    "    'SVM':{\n",
    "        'model':svm.SVC(),\n",
    "        'params':{\n",
    "            'kernel':['rbf','sigmoid'],\n",
    "            'gamma':['scale', 'auto'],\n",
    "            'random_state':[0,1,3,42,10]\n",
    "        }\n",
    "    }\n",
    "}"
   ]
  },
  {
   "cell_type": "code",
   "execution_count": 50,
   "id": "556b7f09",
   "metadata": {
    "execution": {
     "iopub.execute_input": "2023-02-18T20:01:29.644787Z",
     "iopub.status.busy": "2023-02-18T20:01:29.644354Z",
     "iopub.status.idle": "2023-02-18T20:08:58.078600Z",
     "shell.execute_reply": "2023-02-18T20:08:58.077267Z"
    },
    "papermill": {
     "duration": 448.461657,
     "end_time": "2023-02-18T20:08:58.081447",
     "exception": false,
     "start_time": "2023-02-18T20:01:29.619790",
     "status": "completed"
    },
    "tags": []
   },
   "outputs": [],
   "source": [
    "accuracy_score_model = []\n",
    "for model_name, mp in model_params.items():\n",
    "    model = GridSearchCV(mp['model'],mp['params'],cv=5,return_train_score=False)\n",
    "    model.fit(X_test,y_test)\n",
    "    \n",
    "    accuracy_score_model.append({\n",
    "        'model': model_name,\n",
    "        'best_accuracy': model.best_score_*100,\n",
    "        'best parameters':model.best_params_\n",
    "    })"
   ]
  },
  {
   "cell_type": "code",
   "execution_count": 51,
   "id": "1f6f4515",
   "metadata": {
    "execution": {
     "iopub.execute_input": "2023-02-18T20:08:58.129164Z",
     "iopub.status.busy": "2023-02-18T20:08:58.128773Z",
     "iopub.status.idle": "2023-02-18T20:08:58.134252Z",
     "shell.execute_reply": "2023-02-18T20:08:58.133112Z"
    },
    "papermill": {
     "duration": 0.03177,
     "end_time": "2023-02-18T20:08:58.136669",
     "exception": false,
     "start_time": "2023-02-18T20:08:58.104899",
     "status": "completed"
    },
    "tags": []
   },
   "outputs": [],
   "source": [
    "pd.set_option('max_colwidth', -1)"
   ]
  },
  {
   "cell_type": "code",
   "execution_count": 52,
   "id": "1271ba4e",
   "metadata": {
    "execution": {
     "iopub.execute_input": "2023-02-18T20:08:58.183402Z",
     "iopub.status.busy": "2023-02-18T20:08:58.182966Z",
     "iopub.status.idle": "2023-02-18T20:08:58.196968Z",
     "shell.execute_reply": "2023-02-18T20:08:58.195765Z"
    },
    "papermill": {
     "duration": 0.039882,
     "end_time": "2023-02-18T20:08:58.199089",
     "exception": false,
     "start_time": "2023-02-18T20:08:58.159207",
     "status": "completed"
    },
    "tags": []
   },
   "outputs": [
    {
     "data": {
      "text/html": [
       "<div>\n",
       "<style scoped>\n",
       "    .dataframe tbody tr th:only-of-type {\n",
       "        vertical-align: middle;\n",
       "    }\n",
       "\n",
       "    .dataframe tbody tr th {\n",
       "        vertical-align: top;\n",
       "    }\n",
       "\n",
       "    .dataframe thead th {\n",
       "        text-align: right;\n",
       "    }\n",
       "</style>\n",
       "<table border=\"1\" class=\"dataframe\">\n",
       "  <thead>\n",
       "    <tr style=\"text-align: right;\">\n",
       "      <th></th>\n",
       "      <th>model</th>\n",
       "      <th>best_accuracy</th>\n",
       "      <th>best parameters</th>\n",
       "    </tr>\n",
       "  </thead>\n",
       "  <tbody>\n",
       "    <tr>\n",
       "      <th>0</th>\n",
       "      <td>logistic_regression</td>\n",
       "      <td>91.831933</td>\n",
       "      <td>{'max_iter': 500, 'penalty': 'l2'}</td>\n",
       "    </tr>\n",
       "    <tr>\n",
       "      <th>1</th>\n",
       "      <td>decision_tree</td>\n",
       "      <td>93.546218</td>\n",
       "      <td>{'ccp_alpha': 0.01, 'criterion': 'gini', 'random_state': 10, 'splitter': 'random'}</td>\n",
       "    </tr>\n",
       "    <tr>\n",
       "      <th>2</th>\n",
       "      <td>random_forest</td>\n",
       "      <td>94.756303</td>\n",
       "      <td>{'ccp_alpha': 0.01, 'criterion': 'gini', 'n_estimators': 10, 'random_state': 3}</td>\n",
       "    </tr>\n",
       "    <tr>\n",
       "      <th>3</th>\n",
       "      <td>SGD</td>\n",
       "      <td>92.420168</td>\n",
       "      <td>{'alpha': 0.01, 'loss': 'hinge', 'penalty': 'elasticnet', 'random_state': 3}</td>\n",
       "    </tr>\n",
       "    <tr>\n",
       "      <th>4</th>\n",
       "      <td>SVM</td>\n",
       "      <td>88.336134</td>\n",
       "      <td>{'gamma': 'scale', 'kernel': 'rbf', 'random_state': 0}</td>\n",
       "    </tr>\n",
       "  </tbody>\n",
       "</table>\n",
       "</div>"
      ],
      "text/plain": [
       "                 model  best_accuracy  \\\n",
       "0  logistic_regression  91.831933       \n",
       "1  decision_tree        93.546218       \n",
       "2  random_forest        94.756303       \n",
       "3  SGD                  92.420168       \n",
       "4  SVM                  88.336134       \n",
       "\n",
       "                                                                      best parameters  \n",
       "0  {'max_iter': 500, 'penalty': 'l2'}                                                  \n",
       "1  {'ccp_alpha': 0.01, 'criterion': 'gini', 'random_state': 10, 'splitter': 'random'}  \n",
       "2  {'ccp_alpha': 0.01, 'criterion': 'gini', 'n_estimators': 10, 'random_state': 3}     \n",
       "3  {'alpha': 0.01, 'loss': 'hinge', 'penalty': 'elasticnet', 'random_state': 3}        \n",
       "4  {'gamma': 'scale', 'kernel': 'rbf', 'random_state': 0}                              "
      ]
     },
     "execution_count": 52,
     "metadata": {},
     "output_type": "execute_result"
    }
   ],
   "source": [
    "grid_accuracy = pd.DataFrame(accuracy_score_model)\n",
    "grid_accuracy"
   ]
  },
  {
   "cell_type": "markdown",
   "id": "9148c039",
   "metadata": {
    "papermill": {
     "duration": 0.024758,
     "end_time": "2023-02-18T20:08:58.248338",
     "exception": false,
     "start_time": "2023-02-18T20:08:58.223580",
     "status": "completed"
    },
    "tags": []
   },
   "source": [
    "### Feature selection (30->5)"
   ]
  },
  {
   "cell_type": "code",
   "execution_count": 53,
   "id": "53075b8e",
   "metadata": {
    "execution": {
     "iopub.execute_input": "2023-02-18T20:08:58.298218Z",
     "iopub.status.busy": "2023-02-18T20:08:58.297820Z",
     "iopub.status.idle": "2023-02-18T20:08:58.313800Z",
     "shell.execute_reply": "2023-02-18T20:08:58.312566Z"
    },
    "papermill": {
     "duration": 0.044094,
     "end_time": "2023-02-18T20:08:58.316235",
     "exception": false,
     "start_time": "2023-02-18T20:08:58.272141",
     "status": "completed"
    },
    "tags": []
   },
   "outputs": [],
   "source": [
    "from sklearn.feature_selection import RFE"
   ]
  },
  {
   "cell_type": "code",
   "execution_count": 54,
   "id": "b26d2d63",
   "metadata": {
    "execution": {
     "iopub.execute_input": "2023-02-18T20:08:58.364665Z",
     "iopub.status.busy": "2023-02-18T20:08:58.364203Z",
     "iopub.status.idle": "2023-02-18T20:08:58.371263Z",
     "shell.execute_reply": "2023-02-18T20:08:58.370141Z"
    },
    "papermill": {
     "duration": 0.03414,
     "end_time": "2023-02-18T20:08:58.373464",
     "exception": false,
     "start_time": "2023-02-18T20:08:58.339324",
     "status": "completed"
    },
    "tags": []
   },
   "outputs": [],
   "source": [
    "def rfe_selector(X, y,clf, num_feats):\n",
    "\n",
    "    rfe_lr = RFE(estimator=clf,  n_features_to_select = num_feats, step=1,verbose=5)\n",
    "    \n",
    "    rfe_lr = rfe_lr.fit(X,y)\n",
    "    \n",
    "    rfe_support = rfe_lr.get_support()\n",
    "    rfe_feature = X.iloc[:,rfe_support].columns.tolist()\n",
    "    \n",
    "    return rfe_feature"
   ]
  },
  {
   "cell_type": "code",
   "execution_count": 55,
   "id": "6c96d33d",
   "metadata": {
    "execution": {
     "iopub.execute_input": "2023-02-18T20:08:58.422413Z",
     "iopub.status.busy": "2023-02-18T20:08:58.421963Z",
     "iopub.status.idle": "2023-02-18T20:08:58.427474Z",
     "shell.execute_reply": "2023-02-18T20:08:58.426425Z"
    },
    "papermill": {
     "duration": 0.032903,
     "end_time": "2023-02-18T20:08:58.429663",
     "exception": false,
     "start_time": "2023-02-18T20:08:58.396760",
     "status": "completed"
    },
    "tags": []
   },
   "outputs": [],
   "source": [
    "models = {'Logistic Regression':LogisticRegression(),'Decision Tree':DecisionTreeClassifier(),\n",
    "         'Random Forest':RandomForestClassifier(), 'SGDS':SGDClassifier(),'SVM':svm.SVC(kernel='linear')}"
   ]
  },
  {
   "cell_type": "code",
   "execution_count": 56,
   "id": "24b1b5e6",
   "metadata": {
    "execution": {
     "iopub.execute_input": "2023-02-18T20:08:58.478077Z",
     "iopub.status.busy": "2023-02-18T20:08:58.477199Z",
     "iopub.status.idle": "2023-02-18T20:09:08.368164Z",
     "shell.execute_reply": "2023-02-18T20:09:08.366347Z"
    },
    "papermill": {
     "duration": 9.919146,
     "end_time": "2023-02-18T20:09:08.371835",
     "exception": false,
     "start_time": "2023-02-18T20:08:58.452689",
     "status": "completed"
    },
    "tags": []
   },
   "outputs": [
    {
     "name": "stdout",
     "output_type": "stream",
     "text": [
      "Fitting estimator with 30 features.\n",
      "Fitting estimator with 29 features.\n",
      "Fitting estimator with 28 features.\n",
      "Fitting estimator with 27 features.\n",
      "Fitting estimator with 26 features.\n",
      "Fitting estimator with 25 features.\n",
      "Fitting estimator with 24 features.\n",
      "Fitting estimator with 23 features.\n",
      "Fitting estimator with 22 features.\n",
      "Fitting estimator with 21 features.\n",
      "Fitting estimator with 20 features.\n",
      "Fitting estimator with 19 features.\n",
      "Fitting estimator with 18 features.\n",
      "Fitting estimator with 17 features.\n",
      "Fitting estimator with 16 features.\n",
      "Fitting estimator with 15 features.\n",
      "Fitting estimator with 14 features.\n",
      "Fitting estimator with 13 features.\n",
      "Fitting estimator with 12 features.\n",
      "Fitting estimator with 11 features.\n",
      "Fitting estimator with 10 features.\n",
      "Fitting estimator with 9 features.\n",
      "Fitting estimator with 8 features.\n",
      "Fitting estimator with 7 features.\n",
      "Fitting estimator with 6 features.\n",
      "Fitting estimator with 30 features.\n",
      "Fitting estimator with 29 features.\n",
      "Fitting estimator with 28 features.\n",
      "Fitting estimator with 27 features.\n",
      "Fitting estimator with 26 features.\n",
      "Fitting estimator with 25 features.\n",
      "Fitting estimator with 24 features.\n",
      "Fitting estimator with 23 features.\n",
      "Fitting estimator with 22 features.\n",
      "Fitting estimator with 21 features.\n",
      "Fitting estimator with 20 features.\n",
      "Fitting estimator with 19 features.\n",
      "Fitting estimator with 18 features.\n",
      "Fitting estimator with 17 features.\n",
      "Fitting estimator with 16 features.\n",
      "Fitting estimator with 15 features.\n",
      "Fitting estimator with 14 features.\n",
      "Fitting estimator with 13 features.\n",
      "Fitting estimator with 12 features.\n",
      "Fitting estimator with 11 features.\n",
      "Fitting estimator with 10 features.\n",
      "Fitting estimator with 9 features.\n",
      "Fitting estimator with 8 features.\n",
      "Fitting estimator with 7 features.\n",
      "Fitting estimator with 6 features.\n",
      "Fitting estimator with 30 features.\n",
      "Fitting estimator with 29 features.\n",
      "Fitting estimator with 28 features.\n",
      "Fitting estimator with 27 features.\n",
      "Fitting estimator with 26 features.\n",
      "Fitting estimator with 25 features.\n",
      "Fitting estimator with 24 features.\n",
      "Fitting estimator with 23 features.\n",
      "Fitting estimator with 22 features.\n",
      "Fitting estimator with 21 features.\n",
      "Fitting estimator with 20 features.\n",
      "Fitting estimator with 19 features.\n",
      "Fitting estimator with 18 features.\n",
      "Fitting estimator with 17 features.\n",
      "Fitting estimator with 16 features.\n",
      "Fitting estimator with 15 features.\n",
      "Fitting estimator with 14 features.\n",
      "Fitting estimator with 13 features.\n",
      "Fitting estimator with 12 features.\n",
      "Fitting estimator with 11 features.\n",
      "Fitting estimator with 10 features.\n",
      "Fitting estimator with 9 features.\n",
      "Fitting estimator with 8 features.\n",
      "Fitting estimator with 7 features.\n",
      "Fitting estimator with 6 features.\n",
      "Fitting estimator with 30 features.\n",
      "Fitting estimator with 29 features.\n",
      "Fitting estimator with 28 features.\n",
      "Fitting estimator with 27 features.\n",
      "Fitting estimator with 26 features.\n",
      "Fitting estimator with 25 features.\n",
      "Fitting estimator with 24 features.\n",
      "Fitting estimator with 23 features.\n",
      "Fitting estimator with 22 features.\n",
      "Fitting estimator with 21 features.\n",
      "Fitting estimator with 20 features.\n",
      "Fitting estimator with 19 features.\n",
      "Fitting estimator with 18 features.\n",
      "Fitting estimator with 17 features.\n",
      "Fitting estimator with 16 features.\n",
      "Fitting estimator with 15 features.\n",
      "Fitting estimator with 14 features.\n",
      "Fitting estimator with 13 features.\n",
      "Fitting estimator with 12 features.\n",
      "Fitting estimator with 11 features.\n",
      "Fitting estimator with 10 features.\n",
      "Fitting estimator with 9 features.\n",
      "Fitting estimator with 8 features.\n",
      "Fitting estimator with 7 features.\n",
      "Fitting estimator with 6 features.\n",
      "Fitting estimator with 30 features.\n",
      "Fitting estimator with 29 features.\n",
      "Fitting estimator with 28 features.\n",
      "Fitting estimator with 27 features.\n",
      "Fitting estimator with 26 features.\n",
      "Fitting estimator with 25 features.\n",
      "Fitting estimator with 24 features.\n",
      "Fitting estimator with 23 features.\n",
      "Fitting estimator with 22 features.\n",
      "Fitting estimator with 21 features.\n",
      "Fitting estimator with 20 features.\n",
      "Fitting estimator with 19 features.\n",
      "Fitting estimator with 18 features.\n",
      "Fitting estimator with 17 features.\n",
      "Fitting estimator with 16 features.\n",
      "Fitting estimator with 15 features.\n",
      "Fitting estimator with 14 features.\n",
      "Fitting estimator with 13 features.\n",
      "Fitting estimator with 12 features.\n",
      "Fitting estimator with 11 features.\n",
      "Fitting estimator with 10 features.\n",
      "Fitting estimator with 9 features.\n",
      "Fitting estimator with 8 features.\n",
      "Fitting estimator with 7 features.\n",
      "Fitting estimator with 6 features.\n"
     ]
    }
   ],
   "source": [
    "best_features = {}\n",
    "for model_name, model in models.items():\n",
    "    best_params = rfe_selector(df_feat,df_target,model,5)\n",
    "    best_features[model_name] = best_params"
   ]
  },
  {
   "cell_type": "code",
   "execution_count": 57,
   "id": "e5f67eba",
   "metadata": {
    "execution": {
     "iopub.execute_input": "2023-02-18T20:09:08.426004Z",
     "iopub.status.busy": "2023-02-18T20:09:08.425623Z",
     "iopub.status.idle": "2023-02-18T20:09:08.433583Z",
     "shell.execute_reply": "2023-02-18T20:09:08.432460Z"
    },
    "papermill": {
     "duration": 0.037571,
     "end_time": "2023-02-18T20:09:08.436028",
     "exception": false,
     "start_time": "2023-02-18T20:09:08.398457",
     "status": "completed"
    },
    "tags": []
   },
   "outputs": [
    {
     "data": {
      "text/plain": [
       "{'Logistic Regression': ['mean concavity',\n",
       "  'radius error',\n",
       "  'worst compactness',\n",
       "  'worst concavity',\n",
       "  'worst concave points'],\n",
       " 'Decision Tree': ['worst radius',\n",
       "  'worst texture',\n",
       "  'worst area',\n",
       "  'worst smoothness',\n",
       "  'worst concave points'],\n",
       " 'Random Forest': ['mean concave points',\n",
       "  'worst radius',\n",
       "  'worst perimeter',\n",
       "  'worst area',\n",
       "  'worst concave points'],\n",
       " 'SGDS': ['mean perimeter',\n",
       "  'mean area',\n",
       "  'area error',\n",
       "  'worst perimeter',\n",
       "  'worst area'],\n",
       " 'SVM': ['worst smoothness',\n",
       "  'worst compactness',\n",
       "  'worst concavity',\n",
       "  'worst concave points',\n",
       "  'worst symmetry']}"
      ]
     },
     "execution_count": 57,
     "metadata": {},
     "output_type": "execute_result"
    }
   ],
   "source": [
    "best_features"
   ]
  },
  {
   "cell_type": "code",
   "execution_count": 58,
   "id": "030efbb2",
   "metadata": {
    "execution": {
     "iopub.execute_input": "2023-02-18T20:09:08.490303Z",
     "iopub.status.busy": "2023-02-18T20:09:08.489850Z",
     "iopub.status.idle": "2023-02-18T20:09:08.495921Z",
     "shell.execute_reply": "2023-02-18T20:09:08.494488Z"
    },
    "papermill": {
     "duration": 0.035626,
     "end_time": "2023-02-18T20:09:08.498364",
     "exception": false,
     "start_time": "2023-02-18T20:09:08.462738",
     "status": "completed"
    },
    "tags": []
   },
   "outputs": [],
   "source": [
    "models = [LogisticRegression(),DecisionTreeClassifier(),RandomForestClassifier(), SGDClassifier(),svm.SVC(kernel='linear')]"
   ]
  },
  {
   "cell_type": "code",
   "execution_count": 59,
   "id": "c35cc017",
   "metadata": {
    "execution": {
     "iopub.execute_input": "2023-02-18T20:09:08.551995Z",
     "iopub.status.busy": "2023-02-18T20:09:08.551580Z",
     "iopub.status.idle": "2023-02-18T20:09:08.556382Z",
     "shell.execute_reply": "2023-02-18T20:09:08.555312Z"
    },
    "papermill": {
     "duration": 0.034348,
     "end_time": "2023-02-18T20:09:08.558612",
     "exception": false,
     "start_time": "2023-02-18T20:09:08.524264",
     "status": "completed"
    },
    "tags": []
   },
   "outputs": [],
   "source": [
    "accuracy_feature_selection = {}"
   ]
  },
  {
   "cell_type": "markdown",
   "id": "93d880a6",
   "metadata": {
    "papermill": {
     "duration": 0.026311,
     "end_time": "2023-02-18T20:09:08.610231",
     "exception": false,
     "start_time": "2023-02-18T20:09:08.583920",
     "status": "completed"
    },
    "tags": []
   },
   "source": [
    "#### Accuracy scores after Feature Selection"
   ]
  },
  {
   "cell_type": "code",
   "execution_count": 60,
   "id": "0402943d",
   "metadata": {
    "execution": {
     "iopub.execute_input": "2023-02-18T20:09:08.663034Z",
     "iopub.status.busy": "2023-02-18T20:09:08.662594Z",
     "iopub.status.idle": "2023-02-18T20:09:08.667206Z",
     "shell.execute_reply": "2023-02-18T20:09:08.666089Z"
    },
    "papermill": {
     "duration": 0.033391,
     "end_time": "2023-02-18T20:09:08.669561",
     "exception": false,
     "start_time": "2023-02-18T20:09:08.636170",
     "status": "completed"
    },
    "tags": []
   },
   "outputs": [],
   "source": [
    "from sklearn.metrics import accuracy_score"
   ]
  },
  {
   "cell_type": "code",
   "execution_count": 61,
   "id": "1c1f6969",
   "metadata": {
    "execution": {
     "iopub.execute_input": "2023-02-18T20:09:08.722560Z",
     "iopub.status.busy": "2023-02-18T20:09:08.722125Z",
     "iopub.status.idle": "2023-02-18T20:09:10.043898Z",
     "shell.execute_reply": "2023-02-18T20:09:10.042678Z"
    },
    "papermill": {
     "duration": 1.350662,
     "end_time": "2023-02-18T20:09:10.046597",
     "exception": false,
     "start_time": "2023-02-18T20:09:08.695935",
     "status": "completed"
    },
    "tags": []
   },
   "outputs": [],
   "source": [
    "for key,value,model in zip(best_features.keys(),best_features.values(),models):\n",
    "    X_train,X_test, y_train,y_test = train_test_split(df_feat,df_target,random_state=0,stratify=df_target,test_size=0.25)\n",
    "    model = model.fit(X_train,y_train)\n",
    "    y_pred = model.predict(X_test)\n",
    "    accuracy_feature_selection[key] = round(accuracy_score(y_test,y_pred)*100,4) \n",
    "#     print(accuracy_score(y_test,y_pred))"
   ]
  },
  {
   "cell_type": "code",
   "execution_count": 62,
   "id": "1b1ba041",
   "metadata": {
    "execution": {
     "iopub.execute_input": "2023-02-18T20:09:10.099134Z",
     "iopub.status.busy": "2023-02-18T20:09:10.098723Z",
     "iopub.status.idle": "2023-02-18T20:09:10.111852Z",
     "shell.execute_reply": "2023-02-18T20:09:10.110710Z"
    },
    "papermill": {
     "duration": 0.041419,
     "end_time": "2023-02-18T20:09:10.113942",
     "exception": false,
     "start_time": "2023-02-18T20:09:10.072523",
     "status": "completed"
    },
    "tags": []
   },
   "outputs": [
    {
     "data": {
      "text/html": [
       "<div>\n",
       "<style scoped>\n",
       "    .dataframe tbody tr th:only-of-type {\n",
       "        vertical-align: middle;\n",
       "    }\n",
       "\n",
       "    .dataframe tbody tr th {\n",
       "        vertical-align: top;\n",
       "    }\n",
       "\n",
       "    .dataframe thead th {\n",
       "        text-align: right;\n",
       "    }\n",
       "</style>\n",
       "<table border=\"1\" class=\"dataframe\">\n",
       "  <thead>\n",
       "    <tr style=\"text-align: right;\">\n",
       "      <th></th>\n",
       "      <th>Algorithms</th>\n",
       "      <th>Accuracy</th>\n",
       "    </tr>\n",
       "  </thead>\n",
       "  <tbody>\n",
       "    <tr>\n",
       "      <th>0</th>\n",
       "      <td>Logistic Regression</td>\n",
       "      <td>93.0070</td>\n",
       "    </tr>\n",
       "    <tr>\n",
       "      <th>1</th>\n",
       "      <td>Decision Tree</td>\n",
       "      <td>91.6084</td>\n",
       "    </tr>\n",
       "    <tr>\n",
       "      <th>2</th>\n",
       "      <td>Random Forest</td>\n",
       "      <td>95.1049</td>\n",
       "    </tr>\n",
       "    <tr>\n",
       "      <th>3</th>\n",
       "      <td>SGDS</td>\n",
       "      <td>76.2238</td>\n",
       "    </tr>\n",
       "    <tr>\n",
       "      <th>4</th>\n",
       "      <td>SVM</td>\n",
       "      <td>94.4056</td>\n",
       "    </tr>\n",
       "  </tbody>\n",
       "</table>\n",
       "</div>"
      ],
      "text/plain": [
       "            Algorithms  Accuracy\n",
       "0  Logistic Regression  93.0070 \n",
       "1  Decision Tree        91.6084 \n",
       "2  Random Forest        95.1049 \n",
       "3  SGDS                 76.2238 \n",
       "4  SVM                  94.4056 "
      ]
     },
     "execution_count": 62,
     "metadata": {},
     "output_type": "execute_result"
    }
   ],
   "source": [
    "feature_selection = pd.DataFrame(accuracy_feature_selection.items(),\n",
    "             columns=['Algorithms','Accuracy'])\n",
    "feature_selection"
   ]
  },
  {
   "cell_type": "code",
   "execution_count": 63,
   "id": "a18ff13a",
   "metadata": {
    "execution": {
     "iopub.execute_input": "2023-02-18T20:09:10.168907Z",
     "iopub.status.busy": "2023-02-18T20:09:10.167976Z",
     "iopub.status.idle": "2023-02-18T20:09:10.184134Z",
     "shell.execute_reply": "2023-02-18T20:09:10.183343Z"
    },
    "papermill": {
     "duration": 0.045993,
     "end_time": "2023-02-18T20:09:10.186418",
     "exception": false,
     "start_time": "2023-02-18T20:09:10.140425",
     "status": "completed"
    },
    "tags": []
   },
   "outputs": [
    {
     "data": {
      "text/html": [
       "<div>\n",
       "<style scoped>\n",
       "    .dataframe tbody tr th:only-of-type {\n",
       "        vertical-align: middle;\n",
       "    }\n",
       "\n",
       "    .dataframe tbody tr th {\n",
       "        vertical-align: top;\n",
       "    }\n",
       "\n",
       "    .dataframe thead th {\n",
       "        text-align: right;\n",
       "    }\n",
       "</style>\n",
       "<table border=\"1\" class=\"dataframe\">\n",
       "  <thead>\n",
       "    <tr style=\"text-align: right;\">\n",
       "      <th></th>\n",
       "      <th>Algorithms</th>\n",
       "      <th>Simple Accuracy</th>\n",
       "      <th>After GridSearchCV</th>\n",
       "      <th>After Feature Selection</th>\n",
       "    </tr>\n",
       "  </thead>\n",
       "  <tbody>\n",
       "    <tr>\n",
       "      <th>0</th>\n",
       "      <td>Logistic Regression</td>\n",
       "      <td>92.397661</td>\n",
       "      <td>91.831933</td>\n",
       "      <td>93.0070</td>\n",
       "    </tr>\n",
       "    <tr>\n",
       "      <th>1</th>\n",
       "      <td>Decision Tree</td>\n",
       "      <td>91.228070</td>\n",
       "      <td>93.546218</td>\n",
       "      <td>91.6084</td>\n",
       "    </tr>\n",
       "    <tr>\n",
       "      <th>2</th>\n",
       "      <td>Random Forest</td>\n",
       "      <td>95.321637</td>\n",
       "      <td>94.756303</td>\n",
       "      <td>95.1049</td>\n",
       "    </tr>\n",
       "    <tr>\n",
       "      <th>3</th>\n",
       "      <td>Stochastic Gradient Descent</td>\n",
       "      <td>77.777778</td>\n",
       "      <td>92.420168</td>\n",
       "      <td>76.2238</td>\n",
       "    </tr>\n",
       "    <tr>\n",
       "      <th>4</th>\n",
       "      <td>SVM</td>\n",
       "      <td>92.397661</td>\n",
       "      <td>88.336134</td>\n",
       "      <td>94.4056</td>\n",
       "    </tr>\n",
       "  </tbody>\n",
       "</table>\n",
       "</div>"
      ],
      "text/plain": [
       "                    Algorithms  Simple Accuracy  After GridSearchCV  \\\n",
       "0  Logistic Regression          92.397661        91.831933            \n",
       "1  Decision Tree                91.228070        93.546218            \n",
       "2  Random Forest                95.321637        94.756303            \n",
       "3  Stochastic Gradient Descent  77.777778        92.420168            \n",
       "4  SVM                          92.397661        88.336134            \n",
       "\n",
       "   After Feature Selection  \n",
       "0  93.0070                  \n",
       "1  91.6084                  \n",
       "2  95.1049                  \n",
       "3  76.2238                  \n",
       "4  94.4056                  "
      ]
     },
     "execution_count": 63,
     "metadata": {},
     "output_type": "execute_result"
    }
   ],
   "source": [
    "final_compare = pd.DataFrame()\n",
    "final_compare['Algorithms'] = accuracy_df.Algorithm.to_list()\n",
    "final_compare['Simple Accuracy'] = accuracy_df['Accuracy(%)']\n",
    "final_compare['After GridSearchCV'] = grid_accuracy.best_accuracy\n",
    "final_compare['After Feature Selection'] = feature_selection.Accuracy\n",
    "final_compare"
   ]
  },
  {
   "cell_type": "markdown",
   "id": "0d45b41c",
   "metadata": {
    "papermill": {
     "duration": 0.025372,
     "end_time": "2023-02-18T20:09:10.237635",
     "exception": false,
     "start_time": "2023-02-18T20:09:10.212263",
     "status": "completed"
    },
    "tags": []
   },
   "source": [
    "### Additional Model: K-Means Clustering"
   ]
  },
  {
   "cell_type": "code",
   "execution_count": 64,
   "id": "598571f9",
   "metadata": {
    "execution": {
     "iopub.execute_input": "2023-02-18T20:09:10.292590Z",
     "iopub.status.busy": "2023-02-18T20:09:10.292123Z",
     "iopub.status.idle": "2023-02-18T20:09:10.545923Z",
     "shell.execute_reply": "2023-02-18T20:09:10.543533Z"
    },
    "papermill": {
     "duration": 0.284476,
     "end_time": "2023-02-18T20:09:10.548621",
     "exception": false,
     "start_time": "2023-02-18T20:09:10.264145",
     "status": "completed"
    },
    "tags": []
   },
   "outputs": [
    {
     "name": "stdout",
     "output_type": "stream",
     "text": [
      "[[1.93799237e+01 2.16945802e+01 1.28231298e+02 1.18592977e+03\n",
      "  1.01294580e-01 1.48612977e-01 1.76939466e-01 1.00698779e-01\n",
      "  1.91539695e-01 6.06029008e-02 7.42803817e-01 1.22253817e+00\n",
      "  5.25058015e+00 9.56781679e+01 6.59868702e-03 3.21766947e-02\n",
      "  4.24197710e-02 1.56739847e-02 2.03039695e-02 3.95338931e-03\n",
      "  2.37094656e+01 2.89126718e+01 1.58496183e+02 1.75302290e+03\n",
      "  1.40424733e-01 3.57757710e-01 4.49306107e-01 1.92431069e-01\n",
      "  3.11881679e-01 8.61654962e-02]\n",
      " [1.25562991e+01 1.85703653e+01 8.11234703e+01 4.96061872e+02\n",
      "  9.48844977e-02 9.10998174e-02 6.24377642e-02 3.34325434e-02\n",
      "  1.78057991e-01 6.34540183e-02 3.04190868e-01 1.21515320e+00\n",
      "  2.15288059e+00 2.37852922e+01 7.17326256e-03 2.34746895e-02\n",
      "  2.87455128e-02 1.06363242e-02 2.06135799e-02 3.74750297e-03\n",
      "  1.40439018e+01 2.47095434e+01 9.19375114e+01 6.19647945e+02\n",
      "  1.29959110e-01 2.23311758e-01 2.19214947e-01 9.13298425e-02\n",
      "  2.83553653e-01 8.32819406e-02]]\n",
      "              precision    recall  f1-score   support\n",
      "\n",
      "           0       0.99      0.61      0.76       212\n",
      "           1       0.81      1.00      0.90       357\n",
      "\n",
      "    accuracy                           0.85       569\n",
      "   macro avg       0.90      0.81      0.83       569\n",
      "weighted avg       0.88      0.85      0.84       569\n",
      "\n"
     ]
    }
   ],
   "source": [
    "from sklearn.cluster import KMeans\n",
    "kmeans = KMeans(n_clusters=2)\n",
    "kmeans.fit(df.drop('target',axis=1)) \n",
    "print(kmeans.cluster_centers_) # returns the values of the centroids\n",
    "Cluster_predict=kmeans.predict(df.drop('target',axis=1))\n",
    "df['Cluster_predict'] = Cluster_predict\n",
    "df['Cluster_actual'] = df['target']\n",
    "ms.confusion_matrix(df['Cluster_actual'],Cluster_predict)\n",
    "print(ms.classification_report(df['Cluster_actual'],Cluster_predict))"
   ]
  },
  {
   "cell_type": "markdown",
   "id": "1871a2eb",
   "metadata": {
    "papermill": {
     "duration": 0.025151,
     "end_time": "2023-02-18T20:09:10.599954",
     "exception": false,
     "start_time": "2023-02-18T20:09:10.574803",
     "status": "completed"
    },
    "tags": []
   },
   "source": [
    "#### GridSearchCV"
   ]
  },
  {
   "cell_type": "code",
   "execution_count": 65,
   "id": "546a2a61",
   "metadata": {
    "execution": {
     "iopub.execute_input": "2023-02-18T20:09:10.653990Z",
     "iopub.status.busy": "2023-02-18T20:09:10.653495Z",
     "iopub.status.idle": "2023-02-18T20:09:14.727781Z",
     "shell.execute_reply": "2023-02-18T20:09:14.726193Z"
    },
    "papermill": {
     "duration": 4.104096,
     "end_time": "2023-02-18T20:09:14.730353",
     "exception": false,
     "start_time": "2023-02-18T20:09:10.626257",
     "status": "completed"
    },
    "tags": []
   },
   "outputs": [
    {
     "name": "stdout",
     "output_type": "stream",
     "text": [
      "Best parameters:  {'kmeans__init': 'random', 'kmeans__max_iter': 100}\n",
      "Best score:  0.5806396522279149\n"
     ]
    }
   ],
   "source": [
    "from sklearn.model_selection import GridSearchCV\n",
    "from sklearn.pipeline import Pipeline\n",
    "from sklearn.preprocessing import StandardScaler\n",
    "from sklearn.cluster import KMeans\n",
    "\n",
    "# Creating a pipeline with scaler and KMeans model\n",
    "# Since Binary Classification task cannot change value of clusters\n",
    "\n",
    "pipeline = Pipeline([\n",
    "    ('scaler', StandardScaler()),\n",
    "    ('kmeans', KMeans(n_clusters=2, random_state=42))\n",
    "])\n",
    "\n",
    "param_grid = {\n",
    "    'kmeans__init': ['k-means++', 'random'],\n",
    "    'kmeans__max_iter': [100, 200, 300, 400, 500]\n",
    "}\n",
    "\n",
    "grid_search = GridSearchCV(pipeline, param_grid, cv=5, scoring='accuracy')\n",
    "grid_search.fit(df.drop('target', axis=1), df['target'])\n",
    "\n",
    "# Best hyperparameters and corresponding mean cross-validation score\n",
    "print(\"Best parameters: \", grid_search.best_params_)\n",
    "print(\"Best score: \", grid_search.best_score_)"
   ]
  },
  {
   "cell_type": "markdown",
   "id": "710ce9fe",
   "metadata": {
    "papermill": {
     "duration": 0.025315,
     "end_time": "2023-02-18T20:09:14.781777",
     "exception": false,
     "start_time": "2023-02-18T20:09:14.756462",
     "status": "completed"
    },
    "tags": []
   },
   "source": [
    "#### Feature Selection using CHI2"
   ]
  },
  {
   "cell_type": "code",
   "execution_count": 66,
   "id": "da8252ed",
   "metadata": {
    "execution": {
     "iopub.execute_input": "2023-02-18T20:09:14.834894Z",
     "iopub.status.busy": "2023-02-18T20:09:14.834489Z",
     "iopub.status.idle": "2023-02-18T20:09:14.851153Z",
     "shell.execute_reply": "2023-02-18T20:09:14.850160Z"
    },
    "papermill": {
     "duration": 0.046117,
     "end_time": "2023-02-18T20:09:14.853710",
     "exception": false,
     "start_time": "2023-02-18T20:09:14.807593",
     "status": "completed"
    },
    "tags": []
   },
   "outputs": [
    {
     "name": "stdout",
     "output_type": "stream",
     "text": [
      "CHI2 selected 10 Features:\n",
      "- mean perimeter (score: 2011.103, p-value: 0.000)\n",
      "- mean area (score: 53991.656, p-value: 0.000)\n",
      "- area error (score: 8758.505, p-value: 0.000)\n",
      "- worst perimeter (score: 3665.035, p-value: 0.000)\n",
      "- worst area (score: 112598.432, p-value: 0.000)\n"
     ]
    }
   ],
   "source": [
    "from sklearn.feature_selection import SelectKBest, chi2\n",
    "\n",
    "# Create a new instance of the KMeans model\n",
    "kmeans = KMeans(n_clusters=2, random_state=42)\n",
    "\n",
    "# Use SelectKBest with chi-squared score to select the top 10 features\n",
    "selector = SelectKBest(chi2, k=5)\n",
    "\n",
    "# Fit the selector to the data\n",
    "selector.fit(df.drop(['target', 'Cluster_actual', 'Cluster_predict'], axis=1), df['Cluster_actual'])\n",
    "\n",
    "# Get the scores and p-values of the features\n",
    "scores = selector.scores_\n",
    "pvalues = selector.pvalues_\n",
    "\n",
    "# Print the selected features and their scores and p-values\n",
    "selected = selector.get_support()\n",
    "print('CHI2 selected 10 Features:')\n",
    "for i, feature in enumerate(df.drop(['target', 'Cluster_actual', 'Cluster_predict'], axis=1).columns):\n",
    "    if selected[i]:\n",
    "        print(f'- {feature} (score: {scores[i]:.3f}, p-value: {pvalues[i]:.3f})')"
   ]
  },
  {
   "cell_type": "markdown",
   "id": "bb6b0ac8",
   "metadata": {
    "papermill": {
     "duration": 0.025497,
     "end_time": "2023-02-18T20:09:14.905321",
     "exception": false,
     "start_time": "2023-02-18T20:09:14.879824",
     "status": "completed"
    },
    "tags": []
   },
   "source": [
    "#### Confusion matrix for actual vs predict"
   ]
  },
  {
   "cell_type": "code",
   "execution_count": 67,
   "id": "f3630dc0",
   "metadata": {
    "execution": {
     "iopub.execute_input": "2023-02-18T20:09:14.958310Z",
     "iopub.status.busy": "2023-02-18T20:09:14.957911Z",
     "iopub.status.idle": "2023-02-18T20:09:15.273337Z",
     "shell.execute_reply": "2023-02-18T20:09:15.272479Z"
    },
    "papermill": {
     "duration": 0.344732,
     "end_time": "2023-02-18T20:09:15.275924",
     "exception": false,
     "start_time": "2023-02-18T20:09:14.931192",
     "status": "completed"
    },
    "tags": []
   },
   "outputs": [
    {
     "data": {
      "image/png": "[encoded data removed]",
      "text/plain": [
       "<Figure size 640x480 with 2 Axes>"
      ]
     },
     "metadata": {},
     "output_type": "display_data"
    }
   ],
   "source": [
    "%matplotlib inline\n",
    "from sklearn.metrics import confusion_matrix\n",
    "import seaborn as sns\n",
    "\n",
    "cm = confusion_matrix(df['Cluster_actual'], df['Cluster_predict'])\n",
    "sns.heatmap(cm, annot=True, fmt='d', cmap='Blues')\n",
    "plt.title('Confusion Matrix')\n",
    "plt.xlabel('Predicted Cluster')\n",
    "plt.ylabel('Actual Target')\n",
    "plt.show()"
   ]
  },
  {
   "cell_type": "markdown",
   "id": "848af362",
   "metadata": {
    "papermill": {
     "duration": 0.025849,
     "end_time": "2023-02-18T20:09:15.328627",
     "exception": false,
     "start_time": "2023-02-18T20:09:15.302778",
     "status": "completed"
    },
    "tags": []
   },
   "source": [
    "### Visualizations for K-Means Clustering "
   ]
  },
  {
   "cell_type": "markdown",
   "id": "5acd5296",
   "metadata": {
    "papermill": {
     "duration": 0.026093,
     "end_time": "2023-02-18T20:09:15.381793",
     "exception": false,
     "start_time": "2023-02-18T20:09:15.355700",
     "status": "completed"
    },
    "tags": []
   },
   "source": [
    "#### Elbow Joint Plot"
   ]
  },
  {
   "cell_type": "code",
   "execution_count": 68,
   "id": "f6a85ecc",
   "metadata": {
    "execution": {
     "iopub.execute_input": "2023-02-18T20:09:15.436852Z",
     "iopub.status.busy": "2023-02-18T20:09:15.435973Z",
     "iopub.status.idle": "2023-02-18T20:09:25.832595Z",
     "shell.execute_reply": "2023-02-18T20:09:25.831647Z"
    },
    "papermill": {
     "duration": 10.426958,
     "end_time": "2023-02-18T20:09:25.834977",
     "exception": false,
     "start_time": "2023-02-18T20:09:15.408019",
     "status": "completed"
    },
    "tags": []
   },
   "outputs": [
    {
     "data": {
      "image/png": "[encoded data removed]",
      "text/plain": [
       "<Figure size 640x480 with 1 Axes>"
      ]
     },
     "metadata": {},
     "output_type": "display_data"
    }
   ],
   "source": [
    "%matplotlib inline\n",
    "from sklearn.cluster import KMeans\n",
    "import matplotlib.pyplot as plt\n",
    "import numpy as np\n",
    "\n",
    "# Range of k values\n",
    "k_values = range(2, 30)\n",
    "wss_values = []\n",
    "\n",
    "# Fit and calculate the WSS\n",
    "for k in k_values:\n",
    "    kmeans = KMeans(n_clusters=k)\n",
    "    kmeans.fit(df.drop('target', axis=1))\n",
    "    wss_values.append(kmeans.inertia_)\n",
    "\n",
    "plt.plot(k_values, wss_values, 'bx-')\n",
    "plt.xlabel('Number of Clusters (k)')\n",
    "plt.ylabel('Within-Cluster Sum of Squares (WSS)')\n",
    "plt.title('Elbow Joint Plot')\n",
    "plt.xticks(np.arange(min(k_values), max(k_values)+1, 1.0))\n",
    "plt.show()"
   ]
  },
  {
   "cell_type": "markdown",
   "id": "3b19d00c",
   "metadata": {
    "papermill": {
     "duration": 0.026662,
     "end_time": "2023-02-18T20:09:25.888693",
     "exception": false,
     "start_time": "2023-02-18T20:09:25.862031",
     "status": "completed"
    },
    "tags": []
   },
   "source": [
    "#### Silhouette Plot"
   ]
  },
  {
   "cell_type": "code",
   "execution_count": 69,
   "id": "b953f9bb",
   "metadata": {
    "execution": {
     "iopub.execute_input": "2023-02-18T20:09:25.945021Z",
     "iopub.status.busy": "2023-02-18T20:09:25.944258Z",
     "iopub.status.idle": "2023-02-18T20:09:26.508248Z",
     "shell.execute_reply": "2023-02-18T20:09:26.507143Z"
    },
    "papermill": {
     "duration": 0.594493,
     "end_time": "2023-02-18T20:09:26.510689",
     "exception": false,
     "start_time": "2023-02-18T20:09:25.916196",
     "status": "completed"
    },
    "tags": []
   },
   "outputs": [
    {
     "name": "stdout",
     "output_type": "stream",
     "text": [
      "The average silhouette score is: 0.6972644715687979\n"
     ]
    },
    {
     "data": {
      "image/png": "[encoded data removed]",
      "text/plain": [
       "<Figure size 1000x500 with 1 Axes>"
      ]
     },
     "metadata": {},
     "output_type": "display_data"
    }
   ],
   "source": [
    "%matplotlib inline\n",
    "from sklearn.cluster import KMeans\n",
    "from sklearn.metrics import silhouette_samples, silhouette_score\n",
    "import matplotlib.pyplot as plt\n",
    "import numpy as np\n",
    "\n",
    "kmeans = KMeans(n_clusters=2)\n",
    "kmeans.fit(df.drop('target', axis=1))\n",
    "\n",
    "# Calculating silhouette score\n",
    "silhouette_avg = silhouette_score(df.drop('target', axis=1), kmeans.labels_)\n",
    "print(\"The average silhouette score is:\", silhouette_avg)\n",
    "\n",
    "# Calculate silhouette score of each data point\n",
    "silhouette_values = silhouette_samples(df.drop('target', axis=1), kmeans.labels_)\n",
    "\n",
    "plt.figure(figsize=(10, 5))\n",
    "plt.hist(silhouette_values, bins=20)\n",
    "plt.axvline(x=silhouette_avg, color='red', linestyle='--')\n",
    "plt.xlabel('Silhouette Value')\n",
    "plt.ylabel('Frequency')\n",
    "plt.title('Silhouette Plot')\n",
    "plt.show()"
   ]
  },
  {
   "cell_type": "markdown",
   "id": "3cf69a41",
   "metadata": {
    "papermill": {
     "duration": 0.027006,
     "end_time": "2023-02-18T20:09:26.565160",
     "exception": false,
     "start_time": "2023-02-18T20:09:26.538154",
     "status": "completed"
    },
    "tags": []
   },
   "source": [
    "#### True Class Plot "
   ]
  },
  {
   "cell_type": "code",
   "execution_count": 70,
   "id": "f83872b9",
   "metadata": {
    "execution": {
     "iopub.execute_input": "2023-02-18T20:09:26.621939Z",
     "iopub.status.busy": "2023-02-18T20:09:26.621469Z",
     "iopub.status.idle": "2023-02-18T20:09:27.053091Z",
     "shell.execute_reply": "2023-02-18T20:09:27.052157Z"
    },
    "papermill": {
     "duration": 0.462824,
     "end_time": "2023-02-18T20:09:27.055456",
     "exception": false,
     "start_time": "2023-02-18T20:09:26.592632",
     "status": "completed"
    },
    "tags": []
   },
   "outputs": [
    {
     "data": {
      "image/png": "[encoded data removed]",
      "text/plain": [
       "<Figure size 640x480 with 1 Axes>"
      ]
     },
     "metadata": {},
     "output_type": "display_data"
    }
   ],
   "source": [
    "%matplotlib inline\n",
    "from sklearn.decomposition import PCA\n",
    "import matplotlib.pyplot as plt\n",
    "\n",
    "# perform PCA to reduce the dimensionality of the data\n",
    "pca = PCA(n_components=2)\n",
    "X_pca = pca.fit_transform(df.drop('target', axis=1))\n",
    "\n",
    "\n",
    "plt.scatter(X_pca[df['target'] == 0, 0], X_pca[df['target'] == 0, 1], s=50, c='blue', label='Benign')\n",
    "plt.scatter(X_pca[df['target'] == 1, 0], X_pca[df['target'] == 1, 1], s=50, c='red', label='Malignant')\n",
    "plt.legend()\n",
    "plt.xlabel('PC1')\n",
    "plt.ylabel('PC2')\n",
    "plt.title('True Class Plot')\n",
    "plt.show()"
   ]
  },
  {
   "cell_type": "markdown",
   "id": "80795685",
   "metadata": {
    "papermill": {
     "duration": 0.027348,
     "end_time": "2023-02-18T20:09:27.110864",
     "exception": false,
     "start_time": "2023-02-18T20:09:27.083516",
     "status": "completed"
    },
    "tags": []
   },
   "source": [
    "#### Predicted Class Plot"
   ]
  },
  {
   "cell_type": "code",
   "execution_count": 71,
   "id": "5d2175bb",
   "metadata": {
    "execution": {
     "iopub.execute_input": "2023-02-18T20:09:27.168984Z",
     "iopub.status.busy": "2023-02-18T20:09:27.168314Z",
     "iopub.status.idle": "2023-02-18T20:09:27.628053Z",
     "shell.execute_reply": "2023-02-18T20:09:27.626951Z"
    },
    "papermill": {
     "duration": 0.493181,
     "end_time": "2023-02-18T20:09:27.631824",
     "exception": false,
     "start_time": "2023-02-18T20:09:27.138643",
     "status": "completed"
    },
    "tags": []
   },
   "outputs": [
    {
     "data": {
      "image/png": "[encoded data removed]",
      "text/plain": [
       "<Figure size 640x480 with 1 Axes>"
      ]
     },
     "metadata": {},
     "output_type": "display_data"
    }
   ],
   "source": [
    "%matplotlib inline\n",
    "import matplotlib.pyplot as plt\n",
    "import seaborn as sns\n",
    "import pandas as pd\n",
    "from sklearn.decomposition import PCA\n",
    "from sklearn.preprocessing import StandardScaler\n",
    "\n",
    "# Standardize the data\n",
    "scaler = StandardScaler()\n",
    "X_std = scaler.fit_transform(df.drop('target', axis=1))\n",
    "\n",
    "# Perform PCA\n",
    "pca = PCA(n_components=2)\n",
    "pca.fit(X_std)\n",
    "X_pca = pca.transform(X_std)\n",
    "\n",
    "# DataFrame\n",
    "pca_df = pd.DataFrame(X_pca, columns=['PC1', 'PC2'])\n",
    "pca_df['Cluster_predict'] = Cluster_predict\n",
    "pca_df['Cluster_actual'] = df['target']\n",
    "\n",
    "sns.scatterplot(x=pca_df['PC1'], y=pca_df['PC2'], hue=df['Cluster_predict'], palette=['blue', 'red'])\n",
    "plt.xlabel('PC1')\n",
    "plt.ylabel('PC2')\n",
    "plt.title('Predicted Class Plot')\n",
    "plt.legend(loc='upper right')\n",
    "plt.show()"
   ]
  }
 ],
 "metadata": {
  "kernelspec": {
   "display_name": "Python 3",
   "language": "python",
   "name": "python3"
  },
  "language_info": {
   "codemirror_mode": {
    "name": "ipython",
    "version": 3
   },
   "file_extension": ".py",
   "mimetype": "text/x-python",
   "name": "python",
   "nbconvert_exporter": "python",
   "pygments_lexer": "ipython3",
   "version": "3.7.12"
  },
  "papermill": {
   "default_parameters": {},
   "duration": 494.515071,
   "end_time": "2023-02-18T20:09:28.684958",
   "environment_variables": {},
   "exception": null,
   "input_path": "__notebook__.ipynb",
   "output_path": "__notebook__.ipynb",
   "parameters": {},
   "start_time": "2023-02-18T20:01:14.169887",
   "version": "2.3.4"
  }
 },
 "nbformat": 4,
 "nbformat_minor": 5
}
